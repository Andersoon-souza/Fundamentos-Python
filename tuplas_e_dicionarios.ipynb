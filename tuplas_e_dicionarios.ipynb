{
  "nbformat": 4,
  "nbformat_minor": 0,
  "metadata": {
    "colab": {
      "provenance": []
    },
    "kernelspec": {
      "name": "python3",
      "display_name": "Python 3"
    },
    "language_info": {
      "name": "python"
    }
  },
  "cells": [
    {
      "cell_type": "markdown",
      "source": [
        "# Tuplas"
      ],
      "metadata": {
        "id": "oRctHPFiSh8p"
      }
    },
    {
      "cell_type": "code",
      "execution_count": 1,
      "metadata": {
        "colab": {
          "base_uri": "https://localhost:8080/"
        },
        "id": "2NO6tSdqSD0i",
        "outputId": "c489fd38-f362-4b57-fff2-1d063c232ece"
      },
      "outputs": [
        {
          "output_type": "stream",
          "name": "stdout",
          "text": [
            "(3, 4)\n"
          ]
        }
      ],
      "source": [
        "nums = (1,2,3,4,5,6,7,8)\n",
        "sub_tupla = nums[2:4]\n",
        "print(sub_tupla)"
      ]
    },
    {
      "cell_type": "code",
      "source": [
        "nums = (1,2,3,4,5,6,7,8)\n",
        "print(9 in nums)"
      ],
      "metadata": {
        "colab": {
          "base_uri": "https://localhost:8080/"
        },
        "id": "gH33PoH2Sk_s",
        "outputId": "c638872f-5644-4496-9175-28ecadc8f7f8"
      },
      "execution_count": 2,
      "outputs": [
        {
          "output_type": "stream",
          "name": "stdout",
          "text": [
            "False\n"
          ]
        }
      ]
    },
    {
      "cell_type": "code",
      "source": [
        "tupla = tuple((10,20,40))\n",
        "tupla[0] = 30"
      ],
      "metadata": {
        "id": "cVKQ0CLhS1WC"
      },
      "execution_count": null,
      "outputs": []
    },
    {
      "cell_type": "code",
      "source": [
        "tupla = (6,7,8,9,10,6,6)\n",
        "print(tupla.count(6))"
      ],
      "metadata": {
        "colab": {
          "base_uri": "https://localhost:8080/"
        },
        "id": "gXGBuJeaTFmW",
        "outputId": "ee8da337-fc4c-4b6d-c291-0a99f5a495fe"
      },
      "execution_count": 5,
      "outputs": [
        {
          "output_type": "stream",
          "name": "stdout",
          "text": [
            "3\n"
          ]
        }
      ]
    },
    {
      "cell_type": "code",
      "source": [
        "tupla = (5,'3', True, 7234)\n",
        "pos = tupla.index('3')\n",
        "print(pos)"
      ],
      "metadata": {
        "colab": {
          "base_uri": "https://localhost:8080/"
        },
        "id": "PI22wfjkTUfK",
        "outputId": "44d2210d-2b1e-4f35-eb1c-88b8d068c2e9"
      },
      "execution_count": 7,
      "outputs": [
        {
          "output_type": "stream",
          "name": "stdout",
          "text": [
            "1\n"
          ]
        }
      ]
    },
    {
      "cell_type": "code",
      "source": [
        "tupla = (5,'3', True, 7234)\n",
        "for x in tupla:\n",
        "  print(x)"
      ],
      "metadata": {
        "colab": {
          "base_uri": "https://localhost:8080/"
        },
        "id": "JcP24dsETxmJ",
        "outputId": "9c8fa64a-496e-41dc-fc14-bce52520a293"
      },
      "execution_count": 8,
      "outputs": [
        {
          "output_type": "stream",
          "name": "stdout",
          "text": [
            "5\n",
            "3\n",
            "True\n",
            "7234\n"
          ]
        }
      ]
    },
    {
      "cell_type": "code",
      "source": [
        "tupla = (5,'3', True, 7234)\n",
        "for i in range(0, len(tupla)):\n",
        "  print(tupla[i])"
      ],
      "metadata": {
        "colab": {
          "base_uri": "https://localhost:8080/"
        },
        "id": "MG255sevT9Kh",
        "outputId": "921d2889-1c07-4620-9989-89ce7a70e72e"
      },
      "execution_count": 9,
      "outputs": [
        {
          "output_type": "stream",
          "name": "stdout",
          "text": [
            "5\n",
            "3\n",
            "True\n",
            "7234\n"
          ]
        }
      ]
    },
    {
      "cell_type": "code",
      "source": [
        "tupla = (5,'3', True, 7234)\n",
        "indice = 0\n",
        "while (indice < len(tupla)):\n",
        " print(tupla[indice])\n",
        " indice += 1"
      ],
      "metadata": {
        "colab": {
          "base_uri": "https://localhost:8080/"
        },
        "id": "tMU04UoWUHZh",
        "outputId": "f29ebb95-5f6a-4c53-cfde-01bc1ef89dc6"
      },
      "execution_count": 10,
      "outputs": [
        {
          "output_type": "stream",
          "name": "stdout",
          "text": [
            "5\n",
            "3\n",
            "True\n",
            "7234\n"
          ]
        }
      ]
    },
    {
      "cell_type": "code",
      "source": [
        "numeros_set = (1,2,3)\n",
        "numeros_lista = list(numeros_set)\n",
        "numeros_lista[0] = 12\n",
        "numeros_lista.append(\"Fim\")\n",
        "numeros_set = tuple(numeros_lista)\n",
        "print(numeros_set)"
      ],
      "metadata": {
        "colab": {
          "base_uri": "https://localhost:8080/"
        },
        "id": "2KfoeL2bU4tD",
        "outputId": "229aba33-37eb-48d3-ca07-8c3880291925"
      },
      "execution_count": 11,
      "outputs": [
        {
          "output_type": "stream",
          "name": "stdout",
          "text": [
            "(12, 2, 3, 'Fim')\n"
          ]
        }
      ]
    },
    {
      "cell_type": "markdown",
      "source": [
        "# Dicionarios:"
      ],
      "metadata": {
        "id": "JJq0j1inVbCT"
      }
    },
    {
      "cell_type": "code",
      "source": [
        "idades = {'Ana':10, 'Maria': 20, 'João': 34, 'Fernando': 'indefinido'}\n",
        "print(idades)"
      ],
      "metadata": {
        "colab": {
          "base_uri": "https://localhost:8080/"
        },
        "id": "j4ak2V-UVdmD",
        "outputId": "946aa9c8-a6a8-421e-866f-5490e4147faf"
      },
      "execution_count": 12,
      "outputs": [
        {
          "output_type": "stream",
          "name": "stdout",
          "text": [
            "{'Ana': 10, 'Maria': 20, 'João': 34, 'Fernando': 'indefinido'}\n"
          ]
        }
      ]
    },
    {
      "cell_type": "code",
      "source": [
        "nome_numeros = {7.1: 'sete virgula um',\n",
        "                9.8:'nove virgula oito',\n",
        "                10.43: 'dez virgula quarenta e três'}\n",
        "print(nome_numeros)"
      ],
      "metadata": {
        "colab": {
          "base_uri": "https://localhost:8080/"
        },
        "id": "g_aRM1gWWq-D",
        "outputId": "21751d9f-36a5-472f-c5d2-c1d760087017"
      },
      "execution_count": 14,
      "outputs": [
        {
          "output_type": "stream",
          "name": "stdout",
          "text": [
            "{7.1: 'sete virgula um', 9.8: 'nove virgula oito', 10.43: 'dez virgula quarenta e três'}\n"
          ]
        }
      ]
    },
    {
      "cell_type": "code",
      "source": [
        "idades = {'Ana':10, 'Maria': 20, 'João': 34, 'Fernando': 'indefinido'}\n",
        "print(idades['Maria'])\n",
        "print(idades['Fernando'])\n",
        "print(idades['João'])\n",
        "print(idades['Ana'])\n",
        "\n",
        "idades.get('Fernando')"
      ],
      "metadata": {
        "colab": {
          "base_uri": "https://localhost:8080/",
          "height": 109
        },
        "id": "6yYWl-6gXCTV",
        "outputId": "ec367667-9a9c-4ba2-b481-040778e718d1"
      },
      "execution_count": 16,
      "outputs": [
        {
          "output_type": "stream",
          "name": "stdout",
          "text": [
            "20\n",
            "indefinido\n",
            "34\n",
            "10\n"
          ]
        },
        {
          "output_type": "execute_result",
          "data": {
            "text/plain": [
              "'indefinido'"
            ],
            "application/vnd.google.colaboratory.intrinsic+json": {
              "type": "string"
            }
          },
          "metadata": {},
          "execution_count": 16
        }
      ]
    },
    {
      "cell_type": "code",
      "source": [
        "nome_numeros = {\n",
        "    7.1: 'sete virgula um',\n",
        "    9.8:'nove virgula oito',\n",
        "    10.43: 'dez virgula quarenta e três'}\n",
        "print(nome_numeros[7.1])\n",
        "print(nome_numeros.get(10.43))"
      ],
      "metadata": {
        "colab": {
          "base_uri": "https://localhost:8080/"
        },
        "id": "Tl6iT0JjXs6e",
        "outputId": "731649e6-3021-4cd1-d74f-cb0a5b18b405"
      },
      "execution_count": 17,
      "outputs": [
        {
          "output_type": "stream",
          "name": "stdout",
          "text": [
            "sete virgula um\n",
            "dez virgula quarenta e três\n"
          ]
        }
      ]
    },
    {
      "cell_type": "code",
      "source": [
        "idades = {'Ana':10, 'Maria': 20, 'João': 34, 'Fernando': 'indefinido'}\n",
        "print(\"Ana\" in idades)\n",
        "print('Roberto' not in idades)"
      ],
      "metadata": {
        "colab": {
          "base_uri": "https://localhost:8080/"
        },
        "id": "Oy6tjRloYBEq",
        "outputId": "f193deab-966e-4b96-e025-2f7d7c6265c1"
      },
      "execution_count": 18,
      "outputs": [
        {
          "output_type": "stream",
          "name": "stdout",
          "text": [
            "True\n",
            "True\n"
          ]
        }
      ]
    },
    {
      "cell_type": "code",
      "source": [
        "idades = {'Ana':10, 'Maria': 20, 'João': 34, 'Fernando': 'indefinido'}\n",
        "idades['Maria'] = 30\n",
        "idades.update({'João':40})\n",
        "print(idades)"
      ],
      "metadata": {
        "colab": {
          "base_uri": "https://localhost:8080/"
        },
        "id": "XutpLqmlYQOX",
        "outputId": "fee1c9ba-0da6-4799-d2e6-4a04ea631f6c"
      },
      "execution_count": 19,
      "outputs": [
        {
          "output_type": "stream",
          "name": "stdout",
          "text": [
            "{'Ana': 10, 'Maria': 30, 'João': 40, 'Fernando': 'indefinido'}\n"
          ]
        }
      ]
    },
    {
      "cell_type": "code",
      "source": [
        "idades = {'Ana':10, 'Maria': 20, 'João': 34, 'Fernando': 'indefinido'}\n",
        "idades['Marcos'] = 90\n",
        "idades.pop('Ana')\n",
        "print(idades)\n",
        "idades.popitem()\n",
        "print(idades)"
      ],
      "metadata": {
        "colab": {
          "base_uri": "https://localhost:8080/"
        },
        "id": "EoYCiSHfZWX6",
        "outputId": "7b996cd7-bf21-47a3-8507-2b431e46deb7"
      },
      "execution_count": 20,
      "outputs": [
        {
          "output_type": "stream",
          "name": "stdout",
          "text": [
            "{'Maria': 20, 'João': 34, 'Fernando': 'indefinido', 'Marcos': 90}\n",
            "{'Maria': 20, 'João': 34, 'Fernando': 'indefinido'}\n"
          ]
        }
      ]
    },
    {
      "cell_type": "code",
      "source": [
        "idades = {'Ana':10, 'Maria': 20, 'João': 34, 'Fernando': 'indefinido'}\n",
        "lista = idades.items()\n",
        "print(lista)\n",
        "\n",
        "for item in lista:\n",
        "  print(item[0], item[1])"
      ],
      "metadata": {
        "colab": {
          "base_uri": "https://localhost:8080/"
        },
        "id": "CCNHBZBiZ_qh",
        "outputId": "21b56c3e-380f-47c6-8fe9-0f676418eb0a"
      },
      "execution_count": 22,
      "outputs": [
        {
          "output_type": "stream",
          "name": "stdout",
          "text": [
            "dict_items([('Ana', 10), ('Maria', 20), ('João', 34), ('Fernando', 'indefinido')])\n",
            "Ana 10\n",
            "Maria 20\n",
            "João 34\n",
            "Fernando indefinido\n"
          ]
        }
      ]
    },
    {
      "cell_type": "code",
      "source": [
        "idades = {'Ana':10, 'Maria': 20, 'João': 34, 'Fernando': 'indefinido'}\n",
        "chaves = idades.keys()\n",
        "valores = idades.values()\n",
        "\n",
        "for item in chaves:\n",
        "  print(item)\n",
        "print(\"-------------\")\n",
        "\n",
        "for item in valores:\n",
        "  print(item)\n",
        "print('--------------')\n"
      ],
      "metadata": {
        "colab": {
          "base_uri": "https://localhost:8080/"
        },
        "id": "JJHJK-19aQcS",
        "outputId": "96c1672d-6c97-4ac3-ba93-bf1ee8f43f38"
      },
      "execution_count": 24,
      "outputs": [
        {
          "output_type": "stream",
          "name": "stdout",
          "text": [
            "Ana\n",
            "Maria\n",
            "João\n",
            "Fernando\n",
            "-------------\n",
            "10\n",
            "20\n",
            "34\n",
            "indefinido\n",
            "--------------\n"
          ]
        }
      ]
    },
    {
      "cell_type": "code",
      "source": [
        "idades = {'Ana':10, 'Maria': 20, 'João': 34, 'Fernando': 20}\n",
        "lista_nomes = list(idades.values())\n",
        "pessoas_com_20_anos = lista_nomes.count(20)\n",
        "print(pessoas_com_20_anos)"
      ],
      "metadata": {
        "colab": {
          "base_uri": "https://localhost:8080/"
        },
        "id": "ZyG1IVKhbIAs",
        "outputId": "5f957fdd-65bf-4c99-ee2f-b29a4a13a216"
      },
      "execution_count": 26,
      "outputs": [
        {
          "output_type": "stream",
          "name": "stdout",
          "text": [
            "2\n"
          ]
        }
      ]
    },
    {
      "cell_type": "code",
      "source": [
        "idades = {'Ana':10, 'Maria': 20, 'João': 34, 'Fernando': 'indefinido'}\n",
        "idades.clear()\n",
        "print(idades)"
      ],
      "metadata": {
        "colab": {
          "base_uri": "https://localhost:8080/"
        },
        "id": "_ZX0L_vzbdw4",
        "outputId": "76408ebb-e09e-4c1c-c7ae-49bfec340dcb"
      },
      "execution_count": 28,
      "outputs": [
        {
          "output_type": "stream",
          "name": "stdout",
          "text": [
            "{}\n"
          ]
        }
      ]
    },
    {
      "cell_type": "code",
      "source": [
        "dados_maria = {\n",
        "    'sexo': 'feminino',\n",
        "    'cpf': '12345678910',\n",
        "    'rg': '19487555'\n",
        "}\n",
        "\n",
        "dados_joao = {\n",
        "    'sexo': 'masculino',\n",
        "    'cpf': '12345456890',\n",
        "    'rg': '19483285'\n",
        "}\n",
        "\n",
        "dados_anderson = {\n",
        "    'sexo': 'masculino',\n",
        "    'cpf': '12343265890',\n",
        "    'rg': '19488293'\n",
        "}\n",
        "\n",
        "\n",
        "dados_por_nome = {\n",
        "    'maria': dados_maria,\n",
        "    'joao': dados_joao,\n",
        "    'anderson': dados_anderson\n",
        "}\n",
        "\n",
        "print(dados_por_nome['maria']['cpf'])\n",
        "print(dados_por_nome['joao']['sexo'])"
      ],
      "metadata": {
        "colab": {
          "base_uri": "https://localhost:8080/"
        },
        "id": "F_5L-Uv1bw3u",
        "outputId": "bf3a8d8d-d45f-4307-b3b0-24690f02f827"
      },
      "execution_count": 31,
      "outputs": [
        {
          "output_type": "stream",
          "name": "stdout",
          "text": [
            "12345678910\n",
            "masculino\n"
          ]
        }
      ]
    },
    {
      "cell_type": "code",
      "source": [
        "dados_por_nome = {\n",
        "    'maria':{\n",
        "        'sexo': 'feminino',\n",
        "        'cpf': '12345678910',\n",
        "        'rg': '19487555'\n",
        "    },\n",
        "\n",
        "    'joao':{\n",
        "        'sexo': 'masculino',\n",
        "        'cpf': '12345456890',\n",
        "        'rg': '19483285'\n",
        "    },\n",
        "\n",
        "\n",
        "    'anderson': {\n",
        "        'sexo': 'masculino',\n",
        "        'cpf': '12343265890',\n",
        "        'rg': '19488293'\n",
        "    }\n",
        "}\n",
        "\n",
        "print(dados_por_nome['anderson']['cpf'])"
      ],
      "metadata": {
        "colab": {
          "base_uri": "https://localhost:8080/"
        },
        "id": "P3xJ-7rNc_fW",
        "outputId": "765120b4-247f-424e-efee-e730299e1dad"
      },
      "execution_count": 32,
      "outputs": [
        {
          "output_type": "stream",
          "name": "stdout",
          "text": [
            "12343265890\n"
          ]
        }
      ]
    }
  ]
}
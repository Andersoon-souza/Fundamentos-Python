{
  "nbformat": 4,
  "nbformat_minor": 0,
  "metadata": {
    "colab": {
      "provenance": []
    },
    "kernelspec": {
      "name": "python3",
      "display_name": "Python 3"
    },
    "language_info": {
      "name": "python"
    }
  },
  "cells": [
    {
      "cell_type": "markdown",
      "source": [
        "# Funções"
      ],
      "metadata": {
        "id": "nh5UMNW8uHE3"
      }
    },
    {
      "cell_type": "code",
      "execution_count": 10,
      "metadata": {
        "colab": {
          "base_uri": "https://localhost:8080/"
        },
        "id": "kfSSfjjZtTj_",
        "outputId": "e9d20e3c-2c3e-4600-e0e7-2f053bcadc16"
      },
      "outputs": [
        {
          "output_type": "stream",
          "name": "stdout",
          "text": [
            "Uma função 10 \n",
            "Uma função 10 \n"
          ]
        }
      ],
      "source": [
        "# criando uma função:\n",
        "def func():\n",
        "  num = 10\n",
        "  print(\"Uma função %d \" % (num))\n",
        "\n",
        "# chamando a função:\n",
        "func()\n",
        "func()"
      ]
    },
    {
      "cell_type": "code",
      "source": [
        "def print_var(numero):\n",
        "  print(numero)\n",
        "\n",
        "print_var(2)\n",
        "print('Maçã')"
      ],
      "metadata": {
        "colab": {
          "base_uri": "https://localhost:8080/"
        },
        "id": "9jsnrq5Buyp2",
        "outputId": "ecf1e95e-f18c-4f08-8516-70591e38b80a"
      },
      "execution_count": 11,
      "outputs": [
        {
          "output_type": "stream",
          "name": "stdout",
          "text": [
            "2\n",
            "Maçã\n"
          ]
        }
      ]
    },
    {
      "cell_type": "code",
      "source": [
        "def print_soma(num1, num2):\n",
        "  print(num1 + num2)\n",
        "\n",
        "print_soma(1,2)\n",
        "print_soma(3.3,1.1)\n",
        "print_soma('Olá ','mundo!')"
      ],
      "metadata": {
        "colab": {
          "base_uri": "https://localhost:8080/"
        },
        "id": "JcMLTCCmvCAY",
        "outputId": "e120b706-ace5-4556-9835-8d6e1f8a8ff5"
      },
      "execution_count": 12,
      "outputs": [
        {
          "output_type": "stream",
          "name": "stdout",
          "text": [
            "3\n",
            "4.4\n",
            "Olá mundo!\n"
          ]
        }
      ]
    },
    {
      "cell_type": "code",
      "source": [
        "def func(*args):\n",
        "  print(type(args))\n",
        "  print('Argumentos são: ', args)\n",
        "\n",
        "func(1,2,3)\n",
        "func()\n",
        "func('Olá', True, [1,2,3])"
      ],
      "metadata": {
        "colab": {
          "base_uri": "https://localhost:8080/"
        },
        "id": "SqyDtAXEvanp",
        "outputId": "04aad5bc-4c10-46c8-bf06-5d0fe4bc2615"
      },
      "execution_count": 13,
      "outputs": [
        {
          "output_type": "stream",
          "name": "stdout",
          "text": [
            "<class 'tuple'>\n",
            "Argumentos são:  (1, 2, 3)\n",
            "<class 'tuple'>\n",
            "Argumentos são:  ()\n",
            "<class 'tuple'>\n",
            "Argumentos são:  ('Olá', True, [1, 2, 3])\n"
          ]
        }
      ]
    },
    {
      "cell_type": "code",
      "source": [
        "def print_sub(num1, num2):\n",
        "  print(num1 - num2)\n",
        "\n",
        "print_sub(num2 = 2, num1 = 10)"
      ],
      "metadata": {
        "colab": {
          "base_uri": "https://localhost:8080/"
        },
        "id": "TepvhySzv_-A",
        "outputId": "378464fa-ddf6-4e4e-fd5e-fa6fcbb9f482"
      },
      "execution_count": 14,
      "outputs": [
        {
          "output_type": "stream",
          "name": "stdout",
          "text": [
            "8\n"
          ]
        }
      ]
    },
    {
      "cell_type": "code",
      "source": [
        "def func(*args, outro):\n",
        "  print('Argumentos são: ', args)\n",
        "  print(outro)\n",
        "\n",
        "func(1,2,3, outro='1')\n",
        "func(outro='2')\n",
        "func('Olá',True, [1,2,3], outro='3')"
      ],
      "metadata": {
        "colab": {
          "base_uri": "https://localhost:8080/"
        },
        "id": "X21WyMsCwbp4",
        "outputId": "54214f48-67da-4ba8-f47c-730d445fe1d2"
      },
      "execution_count": 15,
      "outputs": [
        {
          "output_type": "stream",
          "name": "stdout",
          "text": [
            "Argumentos são:  (1, 2, 3)\n",
            "1\n",
            "Argumentos são:  ()\n",
            "2\n",
            "Argumentos são:  ('Olá', True, [1, 2, 3])\n",
            "3\n"
          ]
        }
      ]
    },
    {
      "cell_type": "code",
      "source": [
        "# função com valor padrão:\n",
        "def func(valor, nome = 'teste'):\n",
        "  print(nome, valor)\n",
        "\n",
        "func(3)\n",
        "func(3, 'outro')"
      ],
      "metadata": {
        "colab": {
          "base_uri": "https://localhost:8080/"
        },
        "id": "jCbaHbgXywfo",
        "outputId": "0e783aba-69df-47b0-f90d-b386d40f6b31"
      },
      "execution_count": 17,
      "outputs": [
        {
          "output_type": "stream",
          "name": "stdout",
          "text": [
            "teste 3\n",
            "outro 3\n"
          ]
        }
      ]
    },
    {
      "cell_type": "code",
      "source": [
        "# funções com nome e tamanho arbitrário:\n",
        "def func(**args):\n",
        "  print(type(args))\n",
        "  print(args)\n",
        "  print(args['Valor'])\n",
        "\n",
        "func(Valor = '10', operacao = 'soma', resultado = 10)"
      ],
      "metadata": {
        "colab": {
          "base_uri": "https://localhost:8080/"
        },
        "id": "qYfeBZMczFYB",
        "outputId": "938f103c-caba-4e53-9c72-da358c49647c"
      },
      "execution_count": 18,
      "outputs": [
        {
          "output_type": "stream",
          "name": "stdout",
          "text": [
            "<class 'dict'>\n",
            "{'Valor': '10', 'operacao': 'soma', 'resultado': 10}\n",
            "10\n"
          ]
        }
      ]
    },
    {
      "cell_type": "code",
      "source": [
        "def printa(x):\n",
        "  print(x)\n",
        "\n",
        "def executa_func(func, x):\n",
        "  func(x)\n",
        "\n",
        "minha_funcao = printa\n",
        "print(type(minha_funcao))\n",
        "\n",
        "executa_func(minha_funcao,10)"
      ],
      "metadata": {
        "colab": {
          "base_uri": "https://localhost:8080/"
        },
        "id": "FaC1-93JzsR1",
        "outputId": "c1959b03-bcb8-4b4a-9f82-b47b68505796"
      },
      "execution_count": 19,
      "outputs": [
        {
          "output_type": "stream",
          "name": "stdout",
          "text": [
            "<class 'function'>\n",
            "10\n"
          ]
        }
      ]
    },
    {
      "cell_type": "code",
      "source": [
        "def subtrai(num1, num2):\n",
        "  valor = num1 - num2\n",
        "  return valor\n",
        "\n",
        "# passo a função para uma variavel para que possa usar no decorrer da minha aplicação.\n",
        "subtracao = subtrai(10,3)\n",
        "\n",
        "print(subtracao)"
      ],
      "metadata": {
        "colab": {
          "base_uri": "https://localhost:8080/"
        },
        "id": "lNpAl_D20jgn",
        "outputId": "10c41765-e45c-414b-cc42-9cc53af2c4e8"
      },
      "execution_count": 20,
      "outputs": [
        {
          "output_type": "stream",
          "name": "stdout",
          "text": [
            "7\n"
          ]
        }
      ]
    },
    {
      "cell_type": "code",
      "source": [
        "def len_int(numero):\n",
        "  numero_em_texto = str(numero)\n",
        "  return len(numero_em_texto)\n",
        "\n",
        "num1 = \"10\"\n",
        "num2 = 1230\n",
        "\n",
        "tamanho1 = len_int(num1)\n",
        "tamanho2 = len_int(num2)\n",
        "\n",
        "print('O número %s tem %d digitos' % (num1, tamanho1))\n",
        "print('O número %d tem %d digitos' % (num2, tamanho2))"
      ],
      "metadata": {
        "colab": {
          "base_uri": "https://localhost:8080/"
        },
        "id": "G4s7-JiK1cvJ",
        "outputId": "573d7af5-7e0f-42d5-c3eb-d3b43ceae838"
      },
      "execution_count": 23,
      "outputs": [
        {
          "output_type": "stream",
          "name": "stdout",
          "text": [
            "O número 10 tem 2 digitos\n",
            "O número 1230 tem 4 digitos\n"
          ]
        }
      ]
    },
    {
      "cell_type": "code",
      "source": [
        "def retorna_multiplo():\n",
        "  return 1,2\n",
        "\n",
        "valor = retorna_multiplo()\n",
        "print(valor)\n",
        "print(type(valor))"
      ],
      "metadata": {
        "colab": {
          "base_uri": "https://localhost:8080/"
        },
        "id": "YWJZfU4Y2P87",
        "outputId": "38519062-f2a6-4140-f67e-778d025e32a4"
      },
      "execution_count": 24,
      "outputs": [
        {
          "output_type": "stream",
          "name": "stdout",
          "text": [
            "(1, 2)\n",
            "<class 'tuple'>\n"
          ]
        }
      ]
    },
    {
      "cell_type": "code",
      "source": [
        "# fazendo um packing:\n",
        "def retorna_multiplo(a,b,c):\n",
        "  a += a\n",
        "  b += b\n",
        "  c += c\n",
        "  return a,b,c\n",
        "\n",
        "x,y,z = retorna_multiplo(1,2,3)\n",
        "print(x,y,z)\n",
        "a = retorna_multiplo(1,2,3)\n",
        "print(a)"
      ],
      "metadata": {
        "colab": {
          "base_uri": "https://localhost:8080/"
        },
        "id": "oZtTyr6A2i6q",
        "outputId": "b3874a96-3d4e-4c11-9afb-f03ea47e6007"
      },
      "execution_count": 26,
      "outputs": [
        {
          "output_type": "stream",
          "name": "stdout",
          "text": [
            "2 4 6\n",
            "(2, 4, 6)\n"
          ]
        }
      ]
    },
    {
      "cell_type": "code",
      "source": [
        "def func(x):\n",
        "  if x == 'Olá':\n",
        "    print('Olá')\n",
        "    return\n",
        "  print('123')\n",
        "\n",
        "func('x')"
      ],
      "metadata": {
        "colab": {
          "base_uri": "https://localhost:8080/"
        },
        "id": "zkI37xKh3Rxm",
        "outputId": "d40af15c-bb02-4751-9cc0-545ccc5b95b1"
      },
      "execution_count": 29,
      "outputs": [
        {
          "output_type": "stream",
          "name": "stdout",
          "text": [
            "123\n"
          ]
        }
      ]
    },
    {
      "cell_type": "markdown",
      "source": [
        "### Funções Lambda:"
      ],
      "metadata": {
        "id": "OiV3jARA3-u6"
      }
    },
    {
      "cell_type": "code",
      "source": [
        "# É uma função anônima, pois não tem nome, apenas a palavra reservada\n",
        "faz_soma = lambda x: x +10\n",
        "valor = faz_soma(2)\n",
        "print(valor)"
      ],
      "metadata": {
        "colab": {
          "base_uri": "https://localhost:8080/"
        },
        "id": "lo1G3JyD4Bxq",
        "outputId": "c873c359-ddd5-433d-eb4f-0081124b3845"
      },
      "execution_count": 30,
      "outputs": [
        {
          "output_type": "stream",
          "name": "stdout",
          "text": [
            "12\n"
          ]
        }
      ]
    },
    {
      "cell_type": "code",
      "source": [
        "multiplica = lambda x, y: x * y\n",
        "valor = multiplica(2,10)\n",
        "print(valor)"
      ],
      "metadata": {
        "colab": {
          "base_uri": "https://localhost:8080/"
        },
        "id": "3oOK5Y_YAFbQ",
        "outputId": "d9903865-a980-48dc-ec98-d61c07933491"
      },
      "execution_count": 31,
      "outputs": [
        {
          "output_type": "stream",
          "name": "stdout",
          "text": [
            "20\n"
          ]
        }
      ]
    },
    {
      "cell_type": "code",
      "source": [
        "def multiplica(y):\n",
        "  return lambda x: x * y\n",
        "\n",
        "valor = multiplica(2)\n",
        "resultado = valor(10)\n",
        "print(resultado)"
      ],
      "metadata": {
        "colab": {
          "base_uri": "https://localhost:8080/"
        },
        "id": "mNoLY0MzAW38",
        "outputId": "1bc5895c-82f7-47b5-df7a-aef445e3de88"
      },
      "execution_count": 32,
      "outputs": [
        {
          "output_type": "stream",
          "name": "stdout",
          "text": [
            "20\n"
          ]
        }
      ]
    },
    {
      "cell_type": "markdown",
      "source": [
        " Função recursiva:"
      ],
      "metadata": {
        "id": "kQdmcbs7A-LS"
      }
    },
    {
      "cell_type": "code",
      "source": [
        "# ela tem uma interação em si própria.\n",
        "def print_num(num):\n",
        "  print(num)\n",
        "  if num >= 10:\n",
        "    return\n",
        "  print_num(num +1)\n",
        "\n",
        "print_num(0)"
      ],
      "metadata": {
        "colab": {
          "base_uri": "https://localhost:8080/"
        },
        "id": "a3C6PD23BBrh",
        "outputId": "288fd304-92f2-436b-c678-d6f935a6caa8"
      },
      "execution_count": 33,
      "outputs": [
        {
          "output_type": "stream",
          "name": "stdout",
          "text": [
            "0\n",
            "1\n",
            "2\n",
            "3\n",
            "4\n",
            "5\n",
            "6\n",
            "7\n",
            "8\n",
            "9\n",
            "10\n"
          ]
        }
      ]
    },
    {
      "cell_type": "code",
      "source": [
        "def print_str(texto, indice):\n",
        "  if indice == len(texto):\n",
        "    return\n",
        "  print(texto[indice])\n",
        "  print_str(texto, indice + 1)\n",
        "\n",
        "print_str('Python',0)"
      ],
      "metadata": {
        "colab": {
          "base_uri": "https://localhost:8080/"
        },
        "id": "Ie5M4UTTBhyn",
        "outputId": "65282479-765f-493a-c60d-ee8eaa3041e7"
      },
      "execution_count": 34,
      "outputs": [
        {
          "output_type": "stream",
          "name": "stdout",
          "text": [
            "P\n",
            "y\n",
            "t\n",
            "h\n",
            "o\n",
            "n\n"
          ]
        }
      ]
    },
    {
      "cell_type": "code",
      "source": [
        "def fatorial(num):\n",
        "  if (num == 1):\n",
        "    return 1\n",
        "  return num * fatorial(num - 1)\n",
        "\n",
        "print(fatorial(10))"
      ],
      "metadata": {
        "colab": {
          "base_uri": "https://localhost:8080/"
        },
        "id": "uzN11aSXB586",
        "outputId": "efefd91c-1706-4cf5-bc06-499704513cb4"
      },
      "execution_count": 36,
      "outputs": [
        {
          "output_type": "stream",
          "name": "stdout",
          "text": [
            "3628800\n"
          ]
        }
      ]
    },
    {
      "cell_type": "markdown",
      "source": [
        "Funções aninhadas"
      ],
      "metadata": {
        "id": "Pz6oXcOzC63A"
      }
    },
    {
      "cell_type": "code",
      "source": [
        "# função aninhada é aquela que chama outra dentro dela mesma.\n",
        "def pai():\n",
        "  def filho():\n",
        "    print('Sou filho')\n",
        "  filho()\n",
        "\n",
        "pai()"
      ],
      "metadata": {
        "colab": {
          "base_uri": "https://localhost:8080/"
        },
        "id": "u18UExlKDBS8",
        "outputId": "cfab9dee-c1c1-4dc7-e133-2953a34a459e"
      },
      "execution_count": 38,
      "outputs": [
        {
          "output_type": "stream",
          "name": "stdout",
          "text": [
            "Sou filho\n"
          ]
        }
      ]
    },
    {
      "cell_type": "code",
      "source": [
        "def calculadora(num1, num2, op):\n",
        "  def soma(a,b):\n",
        "    return a + b\n",
        "  def subtrai(a,b):\n",
        "    return a - b\n",
        "  if (op == '+'):\n",
        "    return soma(num1,num2)\n",
        "  elif (op == '-'):\n",
        "    return subtrai(num1, num2)\n",
        "\n",
        "print(calculadora(2,1,'+'))\n",
        "print(calculadora(2,1,'-'))"
      ],
      "metadata": {
        "colab": {
          "base_uri": "https://localhost:8080/"
        },
        "id": "hMrUDcjwDIHM",
        "outputId": "9eb936c3-62d3-49b7-8914-676b0bc095f0"
      },
      "execution_count": 41,
      "outputs": [
        {
          "output_type": "stream",
          "name": "stdout",
          "text": [
            "3\n",
            "1\n"
          ]
        }
      ]
    },
    {
      "cell_type": "code",
      "source": [
        "def pega_func_print():\n",
        "  def print_var(var):\n",
        "    print(var)\n",
        "  return print_var\n",
        "\n",
        "print_me = pega_func_print()\n",
        "\n",
        "print_me(10)\n",
        "print(type(print_me))"
      ],
      "metadata": {
        "colab": {
          "base_uri": "https://localhost:8080/"
        },
        "id": "dLCcngBbEXL-",
        "outputId": "042f6e7a-a3ef-4de0-f330-1228c5f9e6f6"
      },
      "execution_count": 42,
      "outputs": [
        {
          "output_type": "stream",
          "name": "stdout",
          "text": [
            "10\n",
            "<class 'function'>\n"
          ]
        }
      ]
    },
    {
      "cell_type": "code",
      "source": [
        "# decoradores:\n",
        "def deixa_maiusculo(func):\n",
        "  def inner_func():\n",
        "    return func().upper()\n",
        "  return inner_func\n",
        "\n",
        "@deixa_maiusculo\n",
        "def retorna_string():\n",
        "  return 'string de teste'\n",
        "\n",
        "valor = retorna_string()\n",
        "print(valor)"
      ],
      "metadata": {
        "colab": {
          "base_uri": "https://localhost:8080/"
        },
        "id": "Uf2AuiatJQb7",
        "outputId": "e87a9979-fd65-4ea0-a181-d1f6e3f799d3"
      },
      "execution_count": 43,
      "outputs": [
        {
          "output_type": "stream",
          "name": "stdout",
          "text": [
            "STRING DE TESTE\n"
          ]
        }
      ]
    },
    {
      "cell_type": "code",
      "source": [
        "def deixaMaiusculo(func):\n",
        "  def inner_func(str1, str2):\n",
        "    return func(str1, str2).upper()\n",
        "  return inner_func\n",
        "\n",
        "@deixaMaiusculo\n",
        "def concatena_string(str1, str2):\n",
        "  return str1 + str2\n",
        "\n",
        "valor = concatena_string('teste', 'abc')\n",
        "print(valor)"
      ],
      "metadata": {
        "colab": {
          "base_uri": "https://localhost:8080/"
        },
        "id": "g2lzzwV2KRV8",
        "outputId": "9262e054-a330-4bc2-ff5a-73127976ce0b"
      },
      "execution_count": 45,
      "outputs": [
        {
          "output_type": "stream",
          "name": "stdout",
          "text": [
            "TESTEABC\n"
          ]
        }
      ]
    },
    {
      "cell_type": "code",
      "source": [
        "def DeixaMaiusculo(func):\n",
        "  def inner_func(texto):\n",
        "    return func(texto).upper()\n",
        "  return inner_func\n",
        "\n",
        "def InsereParentes(func):\n",
        "  def inner_func(texto):\n",
        "    return '('+ func(texto) +')'\n",
        "  return inner_func\n",
        "\n",
        "@DeixaMaiusculo\n",
        "@InsereParentes\n",
        "def formata_string(texto):\n",
        " return texto\n",
        "\n",
        "print(formata_string('Olá este texto será formatado!'))"
      ],
      "metadata": {
        "colab": {
          "base_uri": "https://localhost:8080/"
        },
        "id": "E8AZXYXdLIM6",
        "outputId": "40d5b8a0-b0e9-4322-85b7-750bced55fe0"
      },
      "execution_count": 48,
      "outputs": [
        {
          "output_type": "stream",
          "name": "stdout",
          "text": [
            "(OLÁ ESTE TEXTO SERÁ FORMATADO!)\n"
          ]
        }
      ]
    },
    {
      "cell_type": "markdown",
      "source": [
        "### Atividades:"
      ],
      "metadata": {
        "id": "81gpB3BeV-ey"
      }
    },
    {
      "cell_type": "markdown",
      "source": [
        "1) Crie uma função chamada \"e_negativo\" que receba um número, retorna um booleano \"True\" se o número for negativo, caso contrário retorna \"False\"."
      ],
      "metadata": {
        "id": "4EuwgqkmWBbm"
      }
    },
    {
      "cell_type": "code",
      "source": [
        "def e_negativo(num):\n",
        "  return num < 0\n",
        "\n",
        "print(e_negativo(3))"
      ],
      "metadata": {
        "colab": {
          "base_uri": "https://localhost:8080/"
        },
        "id": "BJ7w_y-YYKnh",
        "outputId": "0890c0fe-4005-49c7-d181-a532c60db09d"
      },
      "execution_count": 60,
      "outputs": [
        {
          "output_type": "stream",
          "name": "stdout",
          "text": [
            "False\n"
          ]
        }
      ]
    },
    {
      "cell_type": "markdown",
      "source": [
        "2) Crie uma função que receba um array de números (int ou float) e retorne sua soma."
      ],
      "metadata": {
        "id": "gLH0l3vuWUMG"
      }
    },
    {
      "cell_type": "code",
      "source": [
        "# solução 1:\n",
        "array_nums = [10,50,40]\n",
        "\n",
        "def soma_array_nums(array_nums):\n",
        "  return sum(array_nums)\n",
        "\n",
        "print(soma_array_nums(array_nums))\n",
        "\n",
        "\n",
        "# solução 2:\n",
        "def array_soma_2(arr):\n",
        "  soma = 0\n",
        "  for i in arr:\n",
        "    soma += i\n",
        "  return soma\n",
        "\n",
        "print(array_soma_2(array_nums))"
      ],
      "metadata": {
        "colab": {
          "base_uri": "https://localhost:8080/"
        },
        "id": "Dx1dVlKccDts",
        "outputId": "8f23989d-a219-4526-9c75-300ecda2faf7"
      },
      "execution_count": 78,
      "outputs": [
        {
          "output_type": "stream",
          "name": "stdout",
          "text": [
            "100\n",
            "100\n"
          ]
        }
      ]
    },
    {
      "cell_type": "markdown",
      "source": [
        "3) Crie uma função que receba uma string e que conte e retorne o número de vogais desta string."
      ],
      "metadata": {
        "id": "vSmXwaeOWcj7"
      }
    },
    {
      "cell_type": "code",
      "source": [
        "def conta_entrada(texto):\n",
        "  vogais = 0\n",
        "  arr_vogais = (\"A\",\"a\",\"E\",\"e\",\"I\",\"i\",\"O\",\"o\",\"U\",\"u\",\"ã\",\"é\")\n",
        "  for i in texto:\n",
        "    if i in arr_vogais:\n",
        "      vogais +=1\n",
        "  return vogais\n",
        "\n",
        "print(conta_entrada(input(\"Digite uma palavra ou uma frase, por favor: \")))"
      ],
      "metadata": {
        "colab": {
          "base_uri": "https://localhost:8080/"
        },
        "id": "ezvzK9gFfHlI",
        "outputId": "ad0147ba-e790-4dd4-e6b5-fa5bd8300404"
      },
      "execution_count": 90,
      "outputs": [
        {
          "output_type": "stream",
          "name": "stdout",
          "text": [
            "Digite uma palavra ou uma frase, por favor: Amanhã é outro dia, vamos trabalhar\n",
            "14\n"
          ]
        }
      ]
    },
    {
      "cell_type": "markdown",
      "source": [
        "4) Crie uma função que retorne o último caractere de uma string recebida."
      ],
      "metadata": {
        "id": "Txt2zOtiWpwp"
      }
    },
    {
      "cell_type": "code",
      "source": [
        "# solução 1:\n",
        "def ultima_letra(entrada):\n",
        "  return entrada[-1]\n",
        "\n",
        "print(ultima_letra(input(\"Última letra: \")))\n",
        "\n",
        "# solução 2:\n",
        "def pega_ultimo(texto):\n",
        "  return texto[len(texto)-1]\n",
        "\n",
        "print(pega_ultimo(input(\"Pega o último caractere: \")))"
      ],
      "metadata": {
        "colab": {
          "base_uri": "https://localhost:8080/"
        },
        "id": "kAhkd5rx1yTI",
        "outputId": "3c53bdb8-f56c-41b7-90bd-496832a3e701"
      },
      "execution_count": 92,
      "outputs": [
        {
          "output_type": "stream",
          "name": "stdout",
          "text": [
            "Última letra: Anderson\n",
            "n\n",
            "Pega o último caractere: Anderson\n",
            "n\n"
          ]
        }
      ]
    },
    {
      "cell_type": "markdown",
      "source": [
        "5) Crie uma função que receba dois números e uma string dizendo se deve realizar a soma ou subtração dos números."
      ],
      "metadata": {
        "id": "aLxDphP9XAYq"
      }
    },
    {
      "cell_type": "code",
      "source": [
        "def operacao(num1, num2, op):\n",
        "  if (op == 'soma'):\n",
        "    return num1 + num2\n",
        "  elif (op =='subtracao'):\n",
        "    return num1 - num2\n",
        "\n",
        "print(operacao(10, 8, \"soma\"))\n",
        "print(operacao(10, 8, \"subtracao\"))\n"
      ],
      "metadata": {
        "colab": {
          "base_uri": "https://localhost:8080/"
        },
        "id": "dL8l9Yk63Zw3",
        "outputId": "2fb4b3a3-af07-4163-ccd8-36370f10bee2"
      },
      "execution_count": 101,
      "outputs": [
        {
          "output_type": "stream",
          "name": "stdout",
          "text": [
            "18\n",
            "2\n"
          ]
        }
      ]
    },
    {
      "cell_type": "markdown",
      "source": [
        "6) Crie uma função que receba uma lista de elementos e um valor qualquer. Em seguida retorne um booleano dizendo se o valor foi encontrado ou não na lista."
      ],
      "metadata": {
        "id": "tf-EKP2vJqT9"
      }
    },
    {
      "cell_type": "code",
      "source": [
        "# solução 1:\n",
        "lista = [\"Anderson\", \"Maria\", \"Joaquim\", \"Antonia\", \"Fausto\", 526]\n",
        "\n",
        "def loc_lista(elemento):\n",
        "  return elemento in lista\n",
        "\n",
        "print(loc_lista(\"Anderson\"))\n",
        "\n",
        "\n",
        "# solução 2:\n",
        "def encontrar(array, item):\n",
        "  for i in array:\n",
        "    if (i == item):\n",
        "      return True\n",
        "  return False\n",
        "\n",
        "arr = [1,\"3\", True, \"Olá\", 7.1, \"fruta\", 859, \"-\"]\n",
        "print(encontrar(arr, \"abc\"))\n",
        "print(encontrar(arr, \"Anderson\"))\n",
        "print(encontrar(arr, True))\n",
        "print(encontrar(arr, 8))\n",
        "print(encontrar(arr, 859))\n",
        "print(encontrar(arr, \"-\"))"
      ],
      "metadata": {
        "colab": {
          "base_uri": "https://localhost:8080/"
        },
        "id": "Ie3nWIQcMCTL",
        "outputId": "b339a3f4-9994-4b9d-d1a5-92271ecf887d"
      },
      "execution_count": 4,
      "outputs": [
        {
          "output_type": "stream",
          "name": "stdout",
          "text": [
            "<class 'list'>\n",
            "True\n",
            "False\n",
            "False\n",
            "True\n",
            "False\n",
            "True\n",
            "True\n"
          ]
        }
      ]
    },
    {
      "cell_type": "markdown",
      "source": [
        "7) Crie uma função que receba uma lista de elementos e um valor qualquer. Em seguida retorne um booleano dizendo se o valor foi encontrado ou não e também a posição onde foi encontrado."
      ],
      "metadata": {
        "id": "HwF61MfIJ6Zg"
      }
    },
    {
      "cell_type": "code",
      "source": [
        "# solução 2:\n",
        "def encontrar_indice(array, item):\n",
        "  for i in range(0, len(array)):\n",
        "    if (array[i] == item):\n",
        "      return True, i\n",
        "  return False, -1\n",
        "\n",
        "arr = [1,\"3\", True, \"Olá\", 7.1, \"fruta\", 859, \"-\"]\n",
        "print(encontrar_indice(arr, 7.1))\n",
        "print(encontrar_indice(arr, \"Anderson\"))\n",
        "print(encontrar_indice(arr, True))\n",
        "print(encontrar_indice(arr, 8))\n",
        "print(encontrar_indice(arr, 859))\n",
        "print(encontrar_indice(arr, \"-\"))"
      ],
      "metadata": {
        "colab": {
          "base_uri": "https://localhost:8080/"
        },
        "id": "rRsxMdpxOYyZ",
        "outputId": "35e5924a-a388-4026-a51a-711ca8c85dc7"
      },
      "execution_count": 9,
      "outputs": [
        {
          "output_type": "stream",
          "name": "stdout",
          "text": [
            "(True, 4)\n",
            "(False, -1)\n",
            "(True, 0)\n",
            "(False, -1)\n",
            "(True, 6)\n",
            "(True, 7)\n"
          ]
        }
      ]
    },
    {
      "cell_type": "markdown",
      "source": [
        "8) Crie uma função que recebe um número arbitrário de parâmetros. Em seguida diga qual o tipo de cada parâmetro."
      ],
      "metadata": {
        "id": "jgJ9EimOKPgo"
      }
    },
    {
      "cell_type": "code",
      "source": [
        "def mostra_tipo(*args):\n",
        "  for i in args:\n",
        "    print(type(i))\n",
        "\n",
        "mostra_tipo(1,2,3.4,\"texto\", True)"
      ],
      "metadata": {
        "colab": {
          "base_uri": "https://localhost:8080/"
        },
        "id": "6G79QqthRSJ3",
        "outputId": "69c669eb-716c-4db8-8f3d-bee291f502d1"
      },
      "execution_count": 10,
      "outputs": [
        {
          "output_type": "stream",
          "name": "stdout",
          "text": [
            "<class 'int'>\n",
            "<class 'int'>\n",
            "<class 'float'>\n",
            "<class 'str'>\n",
            "<class 'bool'>\n"
          ]
        }
      ]
    },
    {
      "cell_type": "markdown",
      "source": [
        "9) Crie uma função que receba uma string, mas que possua um decorator para transforma-la em um citação, ou seja você deve retornar strings entre aspas duplas, além disso transforme todos os caracteres para minúscula usando a função lower()."
      ],
      "metadata": {
        "id": "14nm10UuKaaj"
      }
    },
    {
      "cell_type": "code",
      "source": [
        "def citacao(func):\n",
        "  def func_inner(str):\n",
        "    return '\"'+ func(str).lower() + '\"'\n",
        "  return func_inner\n",
        "\n",
        "@citacao\n",
        "def transforma(str):\n",
        "  return str\n",
        "\n",
        "print(\"E disse João: \", transforma(\"Só os sábios sabem!\"))"
      ],
      "metadata": {
        "colab": {
          "base_uri": "https://localhost:8080/"
        },
        "id": "sPZcZ7yBR8LM",
        "outputId": "e233af43-b2d0-4dd2-bacf-db1de940ae19"
      },
      "execution_count": 11,
      "outputs": [
        {
          "output_type": "stream",
          "name": "stdout",
          "text": [
            "E disse João:  \"só os sábios sabem!\"\n"
          ]
        }
      ]
    },
    {
      "cell_type": "markdown",
      "source": [
        "10) Cria uma função recursiva que itere os números de 0 até 10 e prnte o resultado de sua divisão inteira com o número três."
      ],
      "metadata": {
        "id": "DKpj6Kz7KuxV"
      }
    },
    {
      "cell_type": "code",
      "source": [
        "def print_div_3(num):\n",
        "  if num ==11:\n",
        "    return\n",
        "  print(num // 3)\n",
        "  print_div_3(num+1)\n",
        "\n",
        "print_div_3(0)"
      ],
      "metadata": {
        "colab": {
          "base_uri": "https://localhost:8080/"
        },
        "id": "JQ8w5BxwSpCV",
        "outputId": "014d1164-74eb-48dd-899f-94bd7f1eb056"
      },
      "execution_count": 12,
      "outputs": [
        {
          "output_type": "stream",
          "name": "stdout",
          "text": [
            "0\n",
            "0\n",
            "0\n",
            "1\n",
            "1\n",
            "1\n",
            "2\n",
            "2\n",
            "2\n",
            "3\n",
            "3\n"
          ]
        }
      ]
    }
  ]
}
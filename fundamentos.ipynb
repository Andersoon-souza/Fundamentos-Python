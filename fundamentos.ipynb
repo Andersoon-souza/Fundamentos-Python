{
  "nbformat": 4,
  "nbformat_minor": 0,
  "metadata": {
    "colab": {
      "provenance": []
    },
    "kernelspec": {
      "name": "python3",
      "display_name": "Python 3"
    },
    "language_info": {
      "name": "python"
    }
  },
  "cells": [
    {
      "cell_type": "markdown",
      "source": [
        "# Fundamentos"
      ],
      "metadata": {
        "id": "zF16Q94znU1R"
      }
    },
    {
      "cell_type": "code",
      "execution_count": 1,
      "metadata": {
        "colab": {
          "base_uri": "https://localhost:8080/"
        },
        "id": "QxvwtsX8zUHG",
        "outputId": "5407c4f7-9062-40af-bc64-682245239599"
      },
      "outputs": [
        {
          "output_type": "stream",
          "name": "stdout",
          "text": [
            "Olá mundo\n"
          ]
        }
      ],
      "source": [
        "# Isto é um comentário.\n",
        "# Esse é outro comentário.\n",
        "print(\"Olá mundo\") # esse é outro comentário."
      ]
    },
    {
      "cell_type": "code",
      "source": [
        "''' Esse é outro modo de fazer comentários\n",
        "e continua aqui embaixo '''"
      ],
      "metadata": {
        "colab": {
          "base_uri": "https://localhost:8080/",
          "height": 35
        },
        "id": "sGL8nNzXzs1q",
        "outputId": "501ad1e1-7946-4a12-ec0c-9115e7f4a9f5"
      },
      "execution_count": 2,
      "outputs": [
        {
          "output_type": "execute_result",
          "data": {
            "text/plain": [
              "' Esse é outro modo de fazer comentários\\ne continua aqui embaixo '"
            ],
            "application/vnd.google.colaboratory.intrinsic+json": {
              "type": "string"
            }
          },
          "metadata": {},
          "execution_count": 2
        }
      ]
    },
    {
      "cell_type": "code",
      "source": [
        "print(\"olá mundo\")\n",
        "print(10)\n",
        "print(21.0)\n"
      ],
      "metadata": {
        "colab": {
          "base_uri": "https://localhost:8080/"
        },
        "id": "o6x8GGCkz5Dd",
        "outputId": "cb885e14-e285-4dc2-c9ce-2326727d0564"
      },
      "execution_count": 3,
      "outputs": [
        {
          "output_type": "stream",
          "name": "stdout",
          "text": [
            "olá mundo\n",
            "10\n",
            "21.0\n"
          ]
        }
      ]
    },
    {
      "cell_type": "code",
      "source": [
        "print(\"maçã\", 20, 30.45)"
      ],
      "metadata": {
        "colab": {
          "base_uri": "https://localhost:8080/"
        },
        "id": "vyQUbvUK0ORX",
        "outputId": "4b753c5d-d307-43fd-8977-0b8318c8fc14"
      },
      "execution_count": 4,
      "outputs": [
        {
          "output_type": "stream",
          "name": "stdout",
          "text": [
            "maçã 20 30.45\n"
          ]
        }
      ]
    },
    {
      "cell_type": "code",
      "source": [
        "print(\"maçã\", \"Pera\", \"Uva\", sep=' - ')"
      ],
      "metadata": {
        "colab": {
          "base_uri": "https://localhost:8080/"
        },
        "id": "YQIIC56O0XHt",
        "outputId": "0906ea63-8d38-438b-b3e7-e7ba13748c07"
      },
      "execution_count": 5,
      "outputs": [
        {
          "output_type": "stream",
          "name": "stdout",
          "text": [
            "maçã - Pera - Uva\n"
          ]
        }
      ]
    },
    {
      "cell_type": "code",
      "source": [
        "print(\"Maçã\", \"Pera\", end =\" Fim\", sep=' ')"
      ],
      "metadata": {
        "colab": {
          "base_uri": "https://localhost:8080/"
        },
        "id": "-1GYhpab00Ht",
        "outputId": "6c1fd3fd-20bc-4581-ecff-dfdd40d6d959"
      },
      "execution_count": 6,
      "outputs": [
        {
          "output_type": "stream",
          "name": "stdout",
          "text": [
            "Maçã Pera Fim"
          ]
        }
      ]
    },
    {
      "cell_type": "code",
      "source": [
        "print(\"Esse é um texto longo \\n e eu quero quebrar a linha.\")"
      ],
      "metadata": {
        "colab": {
          "base_uri": "https://localhost:8080/"
        },
        "id": "a_iTVRxT1Ps3",
        "outputId": "93942c0c-ebe5-4292-e1cf-3093ebefeeca"
      },
      "execution_count": 7,
      "outputs": [
        {
          "output_type": "stream",
          "name": "stdout",
          "text": [
            "Esse é um texto longo \n",
            " e eu quero quebrar a linha.\n"
          ]
        }
      ]
    },
    {
      "cell_type": "code",
      "source": [
        "print(\"A pontuação total de %s foi %s pontos\" %(\"Fernando\", \"10\") )"
      ],
      "metadata": {
        "colab": {
          "base_uri": "https://localhost:8080/"
        },
        "id": "2_MeUjq316Mj",
        "outputId": "ecd44282-b221-469e-b5d1-741ce0028725"
      },
      "execution_count": 8,
      "outputs": [
        {
          "output_type": "stream",
          "name": "stdout",
          "text": [
            "A pontuação total de Fernando foi 10 pontos\n"
          ]
        }
      ]
    },
    {
      "cell_type": "code",
      "source": [
        "print(\"A pontuação total de {} foi {} pontos\" .format(\"Fernando\", \"10\") )"
      ],
      "metadata": {
        "colab": {
          "base_uri": "https://localhost:8080/"
        },
        "id": "zrQakFwy2YmK",
        "outputId": "cf82127d-23c5-4933-ac17-8b7df5fab78b"
      },
      "execution_count": 9,
      "outputs": [
        {
          "output_type": "stream",
          "name": "stdout",
          "text": [
            "A pontuação total de Fernando foi 10 pontos\n"
          ]
        }
      ]
    },
    {
      "cell_type": "code",
      "source": [
        "print(\"A pontuação total de \" + \"Fernando\" + \" foi\" + \" 10\" + \" pontos\")"
      ],
      "metadata": {
        "colab": {
          "base_uri": "https://localhost:8080/"
        },
        "id": "gmLCXJbP2kbK",
        "outputId": "944d8aba-65d6-4d3e-ced8-41851c409dba"
      },
      "execution_count": 10,
      "outputs": [
        {
          "output_type": "stream",
          "name": "stdout",
          "text": [
            "A pontuação total de Fernando foi 10 pontos\n"
          ]
        }
      ]
    },
    {
      "cell_type": "markdown",
      "source": [
        "# Exercícios propostos"
      ],
      "metadata": {
        "id": "AP_l5R3LqZV2"
      }
    },
    {
      "cell_type": "code",
      "source": [
        "print(\"Nome completo: Anderson da Silva Souza\")\n",
        "print(\"Idade: 31 anos\")\n",
        "print(\"Altura: 1,74 metros\")"
      ],
      "metadata": {
        "colab": {
          "base_uri": "https://localhost:8080/"
        },
        "id": "E5ofSbzx3rKJ",
        "outputId": "6d693f34-3e8b-4bd8-9500-be1126213f18"
      },
      "execution_count": 11,
      "outputs": [
        {
          "output_type": "stream",
          "name": "stdout",
          "text": [
            "Nome completo: Anderson da Silva Souza\n",
            "Idade: 31 anos\n",
            "Altura: 1,74 metros\n"
          ]
        }
      ]
    },
    {
      "cell_type": "code",
      "source": [
        "print(\"Nome completo: {} - Idade: {} - Altura: {}\" .format(\"Anderson da Silva Souza\",\"31 anos\",\"1,74 metros\") )"
      ],
      "metadata": {
        "colab": {
          "base_uri": "https://localhost:8080/"
        },
        "id": "TqnR0tln3vEt",
        "outputId": "6addffb1-0ed7-4ec2-b33c-3519b43946b7"
      },
      "execution_count": 12,
      "outputs": [
        {
          "output_type": "stream",
          "name": "stdout",
          "text": [
            "Nome completo: Anderson da Silva Souza - Idade: 31 anos - Altura: 1,74 metros\n"
          ]
        }
      ]
    },
    {
      "cell_type": "code",
      "source": [
        "print(\"Números: \", 23, 00.65, -8569, sep=' - ')"
      ],
      "metadata": {
        "colab": {
          "base_uri": "https://localhost:8080/"
        },
        "id": "qBS5Gak05RSc",
        "outputId": "f4c4dd18-3570-4581-e125-58fc63b94fa0"
      },
      "execution_count": 13,
      "outputs": [
        {
          "output_type": "stream",
          "name": "stdout",
          "text": [
            "Números:  - 23 - 0.65 - -8569\n"
          ]
        }
      ]
    },
    {
      "cell_type": "markdown",
      "source": [
        "# Variáveis\n"
      ],
      "metadata": {
        "id": "WavBeqLYnPzh"
      }
    },
    {
      "cell_type": "code",
      "source": [
        "_numero = 1\n",
        "Numero = 2\n",
        "numero = 3\n",
        "numero123 = 4\n",
        "print(_numero, Numero, numero, numero123)"
      ],
      "metadata": {
        "colab": {
          "base_uri": "https://localhost:8080/"
        },
        "id": "KZN95FvRnS9c",
        "outputId": "048b99e1-feae-4cce-bf57-def2ae647165"
      },
      "execution_count": 14,
      "outputs": [
        {
          "output_type": "stream",
          "name": "stdout",
          "text": [
            "1 2 3 4\n"
          ]
        }
      ]
    },
    {
      "cell_type": "code",
      "source": [
        "numero = 10\n",
        "print(numero)\n",
        "numero = 20\n",
        "print(numero)"
      ],
      "metadata": {
        "colab": {
          "base_uri": "https://localhost:8080/"
        },
        "id": "owshQUfJoLdB",
        "outputId": "d616ce12-58dd-4b9c-d941-364e7ed4802d"
      },
      "execution_count": 15,
      "outputs": [
        {
          "output_type": "stream",
          "name": "stdout",
          "text": [
            "10\n",
            "20\n"
          ]
        }
      ]
    },
    {
      "cell_type": "code",
      "source": [
        "texto = 'Olá mundo!'\n",
        "print(texto)"
      ],
      "metadata": {
        "colab": {
          "base_uri": "https://localhost:8080/"
        },
        "id": "jwu3diu2oiSb",
        "outputId": "06ad59e0-275a-455a-cd93-b63fdd28b7b8"
      },
      "execution_count": 16,
      "outputs": [
        {
          "output_type": "stream",
          "name": "stdout",
          "text": [
            "Olá mundo!\n"
          ]
        }
      ]
    },
    {
      "cell_type": "markdown",
      "source": [
        "# Tipos Primitivos"
      ],
      "metadata": {
        "id": "3tToPNsIosHl"
      }
    },
    {
      "cell_type": "code",
      "source": [
        "variavel = None\n",
        "print(variavel)"
      ],
      "metadata": {
        "colab": {
          "base_uri": "https://localhost:8080/"
        },
        "id": "-OogEZqZoqeR",
        "outputId": "f4925274-02bf-4a2e-989d-cbca69ab01c4"
      },
      "execution_count": 17,
      "outputs": [
        {
          "output_type": "stream",
          "name": "stdout",
          "text": [
            "None\n"
          ]
        }
      ]
    },
    {
      "cell_type": "code",
      "source": [
        "inteiro = 10\n",
        "print(inteiro)"
      ],
      "metadata": {
        "colab": {
          "base_uri": "https://localhost:8080/"
        },
        "id": "SRgVkrojo83R",
        "outputId": "e6f1880a-d907-4d51-91a2-a3ffe5e2ea8e"
      },
      "execution_count": 18,
      "outputs": [
        {
          "output_type": "stream",
          "name": "stdout",
          "text": [
            "10\n"
          ]
        }
      ]
    },
    {
      "cell_type": "code",
      "source": [
        "decimal = 1.53\n",
        "print(decimal)"
      ],
      "metadata": {
        "colab": {
          "base_uri": "https://localhost:8080/"
        },
        "id": "x7zJN9PYpBMq",
        "outputId": "d75f66f8-8ea0-45d3-e45f-84c8d12b8c4c"
      },
      "execution_count": 19,
      "outputs": [
        {
          "output_type": "stream",
          "name": "stdout",
          "text": [
            "1.53\n"
          ]
        }
      ]
    },
    {
      "cell_type": "code",
      "source": [
        "texto = \"Olá, isto é um texto\"\n",
        "print(texto)"
      ],
      "metadata": {
        "colab": {
          "base_uri": "https://localhost:8080/"
        },
        "id": "vEEuaaYnpF1-",
        "outputId": "e6f272d5-4886-4125-cffe-b7e50ddb8a2a"
      },
      "execution_count": 20,
      "outputs": [
        {
          "output_type": "stream",
          "name": "stdout",
          "text": [
            "Olá, isto é um texto\n"
          ]
        }
      ]
    },
    {
      "cell_type": "code",
      "source": [
        "var = True\n",
        "print(var)\n",
        "var = False\n",
        "print(var)"
      ],
      "metadata": {
        "colab": {
          "base_uri": "https://localhost:8080/"
        },
        "id": "xrwisEQkpOXE",
        "outputId": "25d26c92-3de3-4226-8e44-8a14d1bfbb24"
      },
      "execution_count": 21,
      "outputs": [
        {
          "output_type": "stream",
          "name": "stdout",
          "text": [
            "True\n",
            "False\n"
          ]
        }
      ]
    },
    {
      "cell_type": "code",
      "source": [
        "var1 = 10\n",
        "var2 = var1\n",
        "print(var2)"
      ],
      "metadata": {
        "colab": {
          "base_uri": "https://localhost:8080/"
        },
        "id": "tJ56uMr-pXHh",
        "outputId": "5152b751-44b8-440d-f3ad-da835a7866e2"
      },
      "execution_count": 22,
      "outputs": [
        {
          "output_type": "stream",
          "name": "stdout",
          "text": [
            "10\n"
          ]
        }
      ]
    },
    {
      "cell_type": "code",
      "source": [
        "var = None\n",
        "print(var)\n",
        "var = 1\n",
        "print(var)\n",
        "var = \"Texto\"\n",
        "print(var)"
      ],
      "metadata": {
        "colab": {
          "base_uri": "https://localhost:8080/"
        },
        "id": "rKqWWoATpe3_",
        "outputId": "69207723-0bdd-4697-d9d2-3e6c902e5028"
      },
      "execution_count": 23,
      "outputs": [
        {
          "output_type": "stream",
          "name": "stdout",
          "text": [
            "None\n",
            "1\n",
            "Texto\n"
          ]
        }
      ]
    },
    {
      "cell_type": "code",
      "source": [
        "saldoBancario = 100\n",
        "SaldoBancario = 100\n",
        "saldo_bancario = 100"
      ],
      "metadata": {
        "id": "8K3i4zJ9pzV0"
      },
      "execution_count": 24,
      "outputs": []
    },
    {
      "cell_type": "markdown",
      "source": [
        "# Exercícios propostos"
      ],
      "metadata": {
        "id": "QZa8fuxqqST8"
      }
    },
    {
      "cell_type": "code",
      "source": [
        "varVazia = None\n",
        "varTexto = \"Printar todos os tipos de variáveis.\"\n",
        "varInteiro = 3\n",
        "varDecimal = 3.0\n",
        "varBooleana = True\n",
        "\n",
        "print(varVazia, varTexto, varInteiro, varDecimal, varBooleana, sep=' / ')"
      ],
      "metadata": {
        "colab": {
          "base_uri": "https://localhost:8080/"
        },
        "id": "aoWouHy6qPzu",
        "outputId": "e46d0efe-9aa5-40e1-8822-e25d064c5b2e"
      },
      "execution_count": 25,
      "outputs": [
        {
          "output_type": "stream",
          "name": "stdout",
          "text": [
            "None / Printar todos os tipos de variáveis. / 3 / 3.0 / True\n"
          ]
        }
      ]
    },
    {
      "cell_type": "code",
      "source": [
        "nomeCompleto = \"Anderson da Silva Souza\"\n",
        "cpf = 12345678901\n",
        "estadoCivil = \"Casado\"\n",
        "\n",
        "print(\n",
        "    '''\n",
        "    Nome completo: {}\n",
        "    CPF: {}\n",
        "    Estado Cívil: {}\n",
        "    ''' .format(nomeCompleto, cpf, estadoCivil)\n",
        ")\n"
      ],
      "metadata": {
        "colab": {
          "base_uri": "https://localhost:8080/"
        },
        "id": "D5Bunajzrh3J",
        "outputId": "2225dd3e-b931-49bd-bdcf-f6a154e7329a"
      },
      "execution_count": 26,
      "outputs": [
        {
          "output_type": "stream",
          "name": "stdout",
          "text": [
            "\n",
            "    Nome completo: Anderson da Silva Souza\n",
            "    CPF: 12345678901\n",
            "    Estado Cívil: Casado\n",
            "    \n"
          ]
        }
      ]
    },
    {
      "cell_type": "markdown",
      "source": [
        "# Formatação:"
      ],
      "metadata": {
        "id": "Da_-zSHXtmeq"
      }
    },
    {
      "cell_type": "code",
      "source": [
        "# %s texto\n",
        "# %d inteiro\n",
        "# %f real (ponto flutuante)"
      ],
      "metadata": {
        "id": "P0e8yNLvto6h"
      },
      "execution_count": 27,
      "outputs": []
    },
    {
      "cell_type": "code",
      "source": [
        "nome = \"Carolina\"\n",
        "texto_formatado = \"O nome dela é %s\" % (nome)\n",
        "print(texto_formatado)"
      ],
      "metadata": {
        "colab": {
          "base_uri": "https://localhost:8080/"
        },
        "id": "7vroHZNqt2Y1",
        "outputId": "f23211a2-1dbc-49a1-e16e-cf53a1102dd8"
      },
      "execution_count": 28,
      "outputs": [
        {
          "output_type": "stream",
          "name": "stdout",
          "text": [
            "O nome dela é Carolina\n"
          ]
        }
      ]
    },
    {
      "cell_type": "code",
      "source": [
        "nome = \"Anderson\"\n",
        "idade = 31\n",
        "altura = 1.74\n",
        "texto = \"Meu nome é %s, tenho %d anos e tenho %f metros de altura.\" % (nome, idade, altura)\n",
        "print(texto)"
      ],
      "metadata": {
        "colab": {
          "base_uri": "https://localhost:8080/"
        },
        "id": "28JRtuRSuL34",
        "outputId": "2d97376c-1bf6-4e2c-c4da-2e3e3cfff8f7"
      },
      "execution_count": 29,
      "outputs": [
        {
          "output_type": "stream",
          "name": "stdout",
          "text": [
            "Meu nome é Anderson, tenho 31 anos e tenho 1.740000 metros de altura.\n"
          ]
        }
      ]
    },
    {
      "cell_type": "code",
      "source": [
        "numero_gigante = 1.123456789\n",
        "print(\"Número gigante formatado %.2f\" % (numero_gigante))"
      ],
      "metadata": {
        "colab": {
          "base_uri": "https://localhost:8080/"
        },
        "id": "-rPvi4-1unwq",
        "outputId": "11adf832-6f84-490c-b808-a2e5188fe9d2"
      },
      "execution_count": 30,
      "outputs": [
        {
          "output_type": "stream",
          "name": "stdout",
          "text": [
            "Número gigante formatado 1.12\n"
          ]
        }
      ]
    },
    {
      "cell_type": "code",
      "source": [
        "valor = False\n",
        "print(\"O valor é %s\" % (valor))\n",
        "print(\"O valor é %d\" % (valor))"
      ],
      "metadata": {
        "colab": {
          "base_uri": "https://localhost:8080/"
        },
        "id": "kv6GGLPfvDSS",
        "outputId": "8c1b1cac-05f8-4cc0-b352-07caa0c05098"
      },
      "execution_count": 31,
      "outputs": [
        {
          "output_type": "stream",
          "name": "stdout",
          "text": [
            "O valor é False\n",
            "O valor é 0\n"
          ]
        }
      ]
    },
    {
      "cell_type": "code",
      "source": [
        "decimal = 23.456\n",
        "print(\"A parte inteira é %d\" %(decimal))"
      ],
      "metadata": {
        "colab": {
          "base_uri": "https://localhost:8080/"
        },
        "id": "kF-fegogvMBw",
        "outputId": "35b2b561-049f-4d88-a4f6-4dccaae2a033"
      },
      "execution_count": 32,
      "outputs": [
        {
          "output_type": "stream",
          "name": "stdout",
          "text": [
            "A parte inteira é 23\n"
          ]
        }
      ]
    },
    {
      "cell_type": "markdown",
      "source": [
        "#Formatação com caracteres especiais"
      ],
      "metadata": {
        "id": "0D5hYh7yvpn3"
      }
    },
    {
      "cell_type": "code",
      "source": [
        "texto = \"Assim se quebra uma linha,\\nentendeu como se quebra a linha?\\n\\t\\tfim\"\n",
        "print(texto)"
      ],
      "metadata": {
        "colab": {
          "base_uri": "https://localhost:8080/"
        },
        "id": "scirxttlvpFk",
        "outputId": "25a68683-360e-4dde-af3a-8ff568d28fb7"
      },
      "execution_count": 33,
      "outputs": [
        {
          "output_type": "stream",
          "name": "stdout",
          "text": [
            "Assim se quebra uma linha,\n",
            "entendeu como se quebra a linha?\n",
            "\t\tfim\n"
          ]
        }
      ]
    },
    {
      "cell_type": "code",
      "source": [
        "texto = 'Deixa a \\'palavra\\' entre aspas'\n",
        "print(texto)"
      ],
      "metadata": {
        "colab": {
          "base_uri": "https://localhost:8080/"
        },
        "id": "nWS4_26zwUPH",
        "outputId": "8be79f7f-cd98-4600-cc32-ec37cad398f2"
      },
      "execution_count": 34,
      "outputs": [
        {
          "output_type": "stream",
          "name": "stdout",
          "text": [
            "Deixa a 'palavra' entre aspas\n"
          ]
        }
      ]
    },
    {
      "cell_type": "markdown",
      "source": [
        "# Exercícios propostos"
      ],
      "metadata": {
        "id": "vbcccOo_wwYJ"
      }
    },
    {
      "cell_type": "code",
      "source": [
        "dia = 15\n",
        "mes = 9\n",
        "ano = 1992\n",
        "\n",
        "print(\"Eu nasci em {}/{}/{}\" .format(dia, mes, ano))"
      ],
      "metadata": {
        "colab": {
          "base_uri": "https://localhost:8080/"
        },
        "id": "WOW-Vg8NwpLB",
        "outputId": "bc1bf935-709b-4017-ebe9-8e389433e257"
      },
      "execution_count": 35,
      "outputs": [
        {
          "output_type": "stream",
          "name": "stdout",
          "text": [
            "Eu nasci em 15/9/1992\n"
          ]
        }
      ]
    },
    {
      "cell_type": "code",
      "source": [
        "hora = 12\n",
        "minuto = 46\n",
        "\n",
        "print(\"Agora são {} horas e {} minutos.\" .format(hora, minuto))"
      ],
      "metadata": {
        "colab": {
          "base_uri": "https://localhost:8080/"
        },
        "id": "Eem4pfmexeje",
        "outputId": "7c7a1ee2-52cd-4f13-a78d-71f52dfcf190"
      },
      "execution_count": 36,
      "outputs": [
        {
          "output_type": "stream",
          "name": "stdout",
          "text": [
            "Agora são 12 horas e 46 minutos.\n"
          ]
        }
      ]
    },
    {
      "cell_type": "code",
      "source": [
        "PI = 3.14159265359\n",
        "print(\"O PI é %.5f\" % (PI))"
      ],
      "metadata": {
        "colab": {
          "base_uri": "https://localhost:8080/"
        },
        "id": "7AvnIrcyx0u6",
        "outputId": "8a72068d-6bbd-4c9e-9ecd-276df3ccdc7e"
      },
      "execution_count": 37,
      "outputs": [
        {
          "output_type": "stream",
          "name": "stdout",
          "text": [
            "O PI é 3.14159\n"
          ]
        }
      ]
    },
    {
      "cell_type": "markdown",
      "source": [
        "# Operadores aritméticos"
      ],
      "metadata": {
        "id": "ZgIM6ZHrzf1C"
      }
    },
    {
      "cell_type": "code",
      "source": [
        "print(10 + 20)"
      ],
      "metadata": {
        "colab": {
          "base_uri": "https://localhost:8080/"
        },
        "id": "O8vPszsvzjYW",
        "outputId": "4d6b76ff-a4c9-445a-ba70-ebdbaf1f7e46"
      },
      "execution_count": 38,
      "outputs": [
        {
          "output_type": "stream",
          "name": "stdout",
          "text": [
            "30\n"
          ]
        }
      ]
    },
    {
      "cell_type": "code",
      "source": [
        "numero = 10 + 10.5\n",
        "print(numero)"
      ],
      "metadata": {
        "colab": {
          "base_uri": "https://localhost:8080/"
        },
        "id": "CIZCzYVQzxUw",
        "outputId": "6b3a7148-a65e-4505-d62e-40fccda9dae1"
      },
      "execution_count": 39,
      "outputs": [
        {
          "output_type": "stream",
          "name": "stdout",
          "text": [
            "20.5\n"
          ]
        }
      ]
    },
    {
      "cell_type": "code",
      "source": [
        "outro_numero = 30 - numero\n",
        "print(outro_numero)"
      ],
      "metadata": {
        "colab": {
          "base_uri": "https://localhost:8080/"
        },
        "id": "AriN83TXz4SS",
        "outputId": "f19f9308-9168-426f-a7da-0a5d3784bf7d"
      },
      "execution_count": 40,
      "outputs": [
        {
          "output_type": "stream",
          "name": "stdout",
          "text": [
            "9.5\n"
          ]
        }
      ]
    },
    {
      "cell_type": "code",
      "source": [
        "numero = 20 - 10\n",
        "print(numero)"
      ],
      "metadata": {
        "colab": {
          "base_uri": "https://localhost:8080/"
        },
        "id": "mjM00y8E0AV4",
        "outputId": "014e5dc5-bda0-4142-ab5f-8597a745937d"
      },
      "execution_count": 41,
      "outputs": [
        {
          "output_type": "stream",
          "name": "stdout",
          "text": [
            "10\n"
          ]
        }
      ]
    },
    {
      "cell_type": "code",
      "source": [
        "numero = 10 * 2\n",
        "print(numero)"
      ],
      "metadata": {
        "colab": {
          "base_uri": "https://localhost:8080/"
        },
        "id": "GrL-D5_N0FmB",
        "outputId": "77e543e8-713e-47d1-f1dd-8f3c3b267a4f"
      },
      "execution_count": 42,
      "outputs": [
        {
          "output_type": "stream",
          "name": "stdout",
          "text": [
            "20\n"
          ]
        }
      ]
    },
    {
      "cell_type": "code",
      "source": [
        "numero = 10 / 3\n",
        "print(numero)"
      ],
      "metadata": {
        "colab": {
          "base_uri": "https://localhost:8080/"
        },
        "id": "So2wiWaf0JsP",
        "outputId": "f4c59f20-787a-440f-c9b9-34509eea7c33"
      },
      "execution_count": 43,
      "outputs": [
        {
          "output_type": "stream",
          "name": "stdout",
          "text": [
            "3.3333333333333335\n"
          ]
        }
      ]
    },
    {
      "cell_type": "code",
      "source": [
        "numero = 10 // 3\n",
        "print(numero)"
      ],
      "metadata": {
        "colab": {
          "base_uri": "https://localhost:8080/"
        },
        "id": "fQUlmruA0Q5j",
        "outputId": "c79b87c4-5d8e-4759-deb7-c21e35458038"
      },
      "execution_count": 44,
      "outputs": [
        {
          "output_type": "stream",
          "name": "stdout",
          "text": [
            "3\n"
          ]
        }
      ]
    },
    {
      "cell_type": "code",
      "source": [
        "numero = 2 ** 4\n",
        "print(numero)"
      ],
      "metadata": {
        "colab": {
          "base_uri": "https://localhost:8080/"
        },
        "id": "0bOLiWSH0YNX",
        "outputId": "31b0cfc2-4605-43d5-8ee8-9e1a9d2fe14d"
      },
      "execution_count": 45,
      "outputs": [
        {
          "output_type": "stream",
          "name": "stdout",
          "text": [
            "16\n"
          ]
        }
      ]
    },
    {
      "cell_type": "code",
      "source": [
        "numero = 4 % 3\n",
        "print(numero)"
      ],
      "metadata": {
        "colab": {
          "base_uri": "https://localhost:8080/"
        },
        "id": "S3FmIxow0dP7",
        "outputId": "2ce07fbc-ea70-4353-d9ee-10a73d9869d4"
      },
      "execution_count": 46,
      "outputs": [
        {
          "output_type": "stream",
          "name": "stdout",
          "text": [
            "1\n"
          ]
        }
      ]
    },
    {
      "cell_type": "code",
      "source": [
        "nume1 = 10 * 2 + 1\n",
        "print(nume1)"
      ],
      "metadata": {
        "colab": {
          "base_uri": "https://localhost:8080/"
        },
        "id": "kG-51eOu0t0b",
        "outputId": "9c9fa42b-5633-4d07-827f-e084df6a5f28"
      },
      "execution_count": 47,
      "outputs": [
        {
          "output_type": "stream",
          "name": "stdout",
          "text": [
            "21\n"
          ]
        }
      ]
    },
    {
      "cell_type": "code",
      "source": [
        "nume1 = 10 * (2 + 1)\n",
        "print(nume1)"
      ],
      "metadata": {
        "colab": {
          "base_uri": "https://localhost:8080/"
        },
        "id": "yEFkTO3V13nM",
        "outputId": "a0a5e610-e299-4b02-e24d-1cc65d312c30"
      },
      "execution_count": 48,
      "outputs": [
        {
          "output_type": "stream",
          "name": "stdout",
          "text": [
            "30\n"
          ]
        }
      ]
    },
    {
      "cell_type": "code",
      "source": [
        "nume1 = 3 * 3 - 9\n",
        "print(nume1)"
      ],
      "metadata": {
        "colab": {
          "base_uri": "https://localhost:8080/"
        },
        "id": "jRgkX-KR193b",
        "outputId": "6253196a-0348-478a-bdf6-9e8fa8692935"
      },
      "execution_count": 49,
      "outputs": [
        {
          "output_type": "stream",
          "name": "stdout",
          "text": [
            "0\n"
          ]
        }
      ]
    },
    {
      "cell_type": "code",
      "source": [
        "nume1 = 3 * (3 - 9)\n",
        "print(nume1)"
      ],
      "metadata": {
        "colab": {
          "base_uri": "https://localhost:8080/"
        },
        "id": "YhjldXy52Fyb",
        "outputId": "8797004a-b858-4811-c654-f1e155555f29"
      },
      "execution_count": 50,
      "outputs": [
        {
          "output_type": "stream",
          "name": "stdout",
          "text": [
            "-18\n"
          ]
        }
      ]
    },
    {
      "cell_type": "code",
      "source": [
        "nume1 = 20\n",
        "nume2 = 40\n",
        "nume3 = 60\n",
        "resultado = nume1 + nume2 + nume3\n",
        "print(resultado)"
      ],
      "metadata": {
        "colab": {
          "base_uri": "https://localhost:8080/"
        },
        "id": "oaC_uSwi2Jf-",
        "outputId": "2939355b-1e64-43be-a88b-5489e48ff917"
      },
      "execution_count": 51,
      "outputs": [
        {
          "output_type": "stream",
          "name": "stdout",
          "text": [
            "120\n"
          ]
        }
      ]
    },
    {
      "cell_type": "code",
      "source": [
        "resultado = resultado * 2\n",
        "print(resultado)"
      ],
      "metadata": {
        "colab": {
          "base_uri": "https://localhost:8080/"
        },
        "id": "ktykrSf22Z7M",
        "outputId": "24e0634b-c151-4d05-8cbc-70006293d3fd"
      },
      "execution_count": 52,
      "outputs": [
        {
          "output_type": "stream",
          "name": "stdout",
          "text": [
            "240\n"
          ]
        }
      ]
    },
    {
      "cell_type": "code",
      "source": [
        "a = 1\n",
        "a = a + 1\n",
        "print(a)\n",
        "\n",
        "b = 1\n",
        "b += 1\n",
        "print(b)"
      ],
      "metadata": {
        "colab": {
          "base_uri": "https://localhost:8080/"
        },
        "id": "wkTo8pxk2ewS",
        "outputId": "4a0c7591-90f8-4c4b-a961-6b462ced2c1f"
      },
      "execution_count": 53,
      "outputs": [
        {
          "output_type": "stream",
          "name": "stdout",
          "text": [
            "2\n",
            "2\n"
          ]
        }
      ]
    },
    {
      "cell_type": "markdown",
      "source": [
        "# Exercícios propostos"
      ],
      "metadata": {
        "id": "bJnAZswh2zkS"
      }
    },
    {
      "cell_type": "code",
      "source": [
        "anoAtual = 2024\n",
        "anoNascimento = 1992\n",
        "idade = anoAtual - anoNascimento\n",
        "print(\"Idade: %s anos\" % (idade) )"
      ],
      "metadata": {
        "colab": {
          "base_uri": "https://localhost:8080/"
        },
        "id": "CHKX8U652nEQ",
        "outputId": "4a1257e7-80f9-4118-bfda-07bf90582d2f"
      },
      "execution_count": 54,
      "outputs": [
        {
          "output_type": "stream",
          "name": "stdout",
          "text": [
            "Idade: 32 anos\n"
          ]
        }
      ]
    },
    {
      "cell_type": "code",
      "source": [
        "numero1, numero2, numero3 = 236, 568, 549\n",
        "mediaNumeros = (numero1 + numero2 + numero3) / 3\n",
        "print(mediaNumeros)"
      ],
      "metadata": {
        "colab": {
          "base_uri": "https://localhost:8080/"
        },
        "id": "mW9jzapN3e6C",
        "outputId": "24b89673-a284-4d38-87b6-b12c9c6384a0"
      },
      "execution_count": 55,
      "outputs": [
        {
          "output_type": "stream",
          "name": "stdout",
          "text": [
            "451.0\n"
          ]
        }
      ]
    },
    {
      "cell_type": "code",
      "source": [
        "peso = 86\n",
        "altura = 1.74\n",
        "IMC = peso / (altura**2)\n",
        "print(IMC)"
      ],
      "metadata": {
        "colab": {
          "base_uri": "https://localhost:8080/"
        },
        "id": "pj15BtWc4BaM",
        "outputId": "dc9c3049-cb9f-419e-85d7-6d9d377f7c41"
      },
      "execution_count": 56,
      "outputs": [
        {
          "output_type": "stream",
          "name": "stdout",
          "text": [
            "28.405337561104506\n"
          ]
        }
      ]
    },
    {
      "cell_type": "code",
      "source": [
        "qtOvosPascoa = 65\n",
        "qtPessoas = 7\n",
        "ovosPessoas = qtOvosPascoa // qtPessoas\n",
        "restoOvos = qtOvosPascoa % qtPessoas\n",
        "\n",
        "print(\"Cada pessoa ficou com {} ovos\" .format(ovosPessoas))\n",
        "print(\"Restaram {} ovos que não puderam ser divididos\" .format(restoOvos))"
      ],
      "metadata": {
        "colab": {
          "base_uri": "https://localhost:8080/"
        },
        "id": "xJqiT1rK4oGQ",
        "outputId": "bbfddab8-c1d1-462f-8f9b-4b162f953155"
      },
      "execution_count": 66,
      "outputs": [
        {
          "output_type": "stream",
          "name": "stdout",
          "text": [
            "Cada pessoa ficou com 9 ovos\n",
            "Restaram 2 ovos que não puderam ser divididos\n"
          ]
        }
      ]
    },
    {
      "cell_type": "markdown",
      "source": [
        "# Operadores lógicos"
      ],
      "metadata": {
        "id": "_GInDf6ztdWJ"
      }
    },
    {
      "cell_type": "code",
      "source": [
        "resultado1 = True and False\n",
        "print(resultado1)"
      ],
      "metadata": {
        "colab": {
          "base_uri": "https://localhost:8080/"
        },
        "id": "PjGWXaXMtgVE",
        "outputId": "37d48c9a-f4ae-49ac-8cbb-704be1ef7218"
      },
      "execution_count": 67,
      "outputs": [
        {
          "output_type": "stream",
          "name": "stdout",
          "text": [
            "False\n"
          ]
        }
      ]
    },
    {
      "cell_type": "code",
      "source": [
        "resultado2 = True and True\n",
        "print(resultado2)"
      ],
      "metadata": {
        "colab": {
          "base_uri": "https://localhost:8080/"
        },
        "id": "R98YST-9toFU",
        "outputId": "f7433954-df42-4310-c908-f7b48c2c7048"
      },
      "execution_count": 68,
      "outputs": [
        {
          "output_type": "stream",
          "name": "stdout",
          "text": [
            "True\n"
          ]
        }
      ]
    },
    {
      "cell_type": "code",
      "source": [
        "var1 = True\n",
        "var2 = True\n",
        "var3 = False\n",
        "print(var1 and var2 and var3)"
      ],
      "metadata": {
        "colab": {
          "base_uri": "https://localhost:8080/"
        },
        "id": "ykOm_3uXtx4Y",
        "outputId": "c39afacf-5105-4a80-f417-453fbddd296e"
      },
      "execution_count": 69,
      "outputs": [
        {
          "output_type": "stream",
          "name": "stdout",
          "text": [
            "False\n"
          ]
        }
      ]
    },
    {
      "cell_type": "code",
      "source": [
        "clima_bom = True\n",
        "estou_disposto = True\n",
        "vou_ao_mercado = clima_bom and estou_disposto\n",
        "print(\"Vou ao mercado? \", vou_ao_mercado)"
      ],
      "metadata": {
        "colab": {
          "base_uri": "https://localhost:8080/"
        },
        "id": "p3haALjdt8MU",
        "outputId": "7c10e18e-624e-45da-e653-0c5742c86b17"
      },
      "execution_count": 70,
      "outputs": [
        {
          "output_type": "stream",
          "name": "stdout",
          "text": [
            "Vou ao mercado?  True\n"
          ]
        }
      ]
    },
    {
      "cell_type": "code",
      "source": [
        "resultado = True or False\n",
        "print(resultado)"
      ],
      "metadata": {
        "colab": {
          "base_uri": "https://localhost:8080/"
        },
        "id": "jM_Uqvozu3Tt",
        "outputId": "11d3a009-7083-4b32-b88d-a0d8b9d7437b"
      },
      "execution_count": 71,
      "outputs": [
        {
          "output_type": "stream",
          "name": "stdout",
          "text": [
            "True\n"
          ]
        }
      ]
    },
    {
      "cell_type": "code",
      "source": [
        "resultado = True or True\n",
        "print(resultado)"
      ],
      "metadata": {
        "colab": {
          "base_uri": "https://localhost:8080/"
        },
        "id": "8vVt2VOFu9nw",
        "outputId": "bf294a4a-0a45-4c01-9af2-33ae3cb7beed"
      },
      "execution_count": 72,
      "outputs": [
        {
          "output_type": "stream",
          "name": "stdout",
          "text": [
            "True\n"
          ]
        }
      ]
    },
    {
      "cell_type": "code",
      "source": [
        "resultado = False or False\n",
        "print(resultado)"
      ],
      "metadata": {
        "colab": {
          "base_uri": "https://localhost:8080/"
        },
        "id": "fgmWd6YkvAid",
        "outputId": "8b7856fd-623b-49e8-c4be-69496ea412fc"
      },
      "execution_count": 73,
      "outputs": [
        {
          "output_type": "stream",
          "name": "stdout",
          "text": [
            "False\n"
          ]
        }
      ]
    },
    {
      "cell_type": "code",
      "source": [
        "sei_programar = True\n",
        "sei_investir = True\n",
        "ganho_bom_salario = sei_programar or sei_investir\n",
        "print(\"Terei um bom salário? \", ganho_bom_salario)"
      ],
      "metadata": {
        "colab": {
          "base_uri": "https://localhost:8080/"
        },
        "id": "SOi7TECWvEi6",
        "outputId": "d6b770f2-53fd-4d0a-a555-398f4b7e7300"
      },
      "execution_count": 74,
      "outputs": [
        {
          "output_type": "stream",
          "name": "stdout",
          "text": [
            "Terei um bom salário?  True\n"
          ]
        }
      ]
    },
    {
      "cell_type": "code",
      "source": [
        "resultado = True\n",
        "print(not resultado)"
      ],
      "metadata": {
        "colab": {
          "base_uri": "https://localhost:8080/"
        },
        "id": "KD_h2tbtvuLQ",
        "outputId": "9cbf7375-cb63-474e-846f-0d0e431e0ca8"
      },
      "execution_count": 75,
      "outputs": [
        {
          "output_type": "stream",
          "name": "stdout",
          "text": [
            "False\n"
          ]
        }
      ]
    },
    {
      "cell_type": "code",
      "source": [
        "resultado = False\n",
        "print(not resultado)"
      ],
      "metadata": {
        "colab": {
          "base_uri": "https://localhost:8080/"
        },
        "id": "kzy1n3jPv1eO",
        "outputId": "5a7f52f6-dd42-4b96-fd2e-7874e42bfaa3"
      },
      "execution_count": 76,
      "outputs": [
        {
          "output_type": "stream",
          "name": "stdout",
          "text": [
            "True\n"
          ]
        }
      ]
    },
    {
      "cell_type": "code",
      "source": [
        "porta_aberta = False\n",
        "tem_chave = False\n",
        "print(\"Estou trancado? \", not porta_aberta and not tem_chave)"
      ],
      "metadata": {
        "colab": {
          "base_uri": "https://localhost:8080/"
        },
        "id": "rpxfEtrzv5ys",
        "outputId": "5d8c2a9a-86d4-4885-bf62-1c7fc55eaabe"
      },
      "execution_count": 78,
      "outputs": [
        {
          "output_type": "stream",
          "name": "stdout",
          "text": [
            "Estou trancado?  True\n"
          ]
        }
      ]
    },
    {
      "cell_type": "code",
      "source": [
        "# Prioridade\n",
        "# NOT, AND, OR"
      ],
      "metadata": {
        "id": "_6FwK2H9wPuN"
      },
      "execution_count": 80,
      "outputs": []
    },
    {
      "cell_type": "code",
      "source": [
        "bool1 = True or False and True\n",
        "print(bool1)"
      ],
      "metadata": {
        "colab": {
          "base_uri": "https://localhost:8080/"
        },
        "id": "LZEmBfJIwYk0",
        "outputId": "ecd75553-cd30-43c2-ff2c-c64414cd5b5e"
      },
      "execution_count": 81,
      "outputs": [
        {
          "output_type": "stream",
          "name": "stdout",
          "text": [
            "True\n"
          ]
        }
      ]
    },
    {
      "cell_type": "code",
      "source": [
        "bool2 = True or not False\n",
        "print(bool2)"
      ],
      "metadata": {
        "colab": {
          "base_uri": "https://localhost:8080/"
        },
        "id": "Lgyh56bBwmwQ",
        "outputId": "681d5ed3-49cc-4dbe-f1de-521ceaf9cd44"
      },
      "execution_count": 82,
      "outputs": [
        {
          "output_type": "stream",
          "name": "stdout",
          "text": [
            "True\n"
          ]
        }
      ]
    },
    {
      "cell_type": "code",
      "source": [
        "bool3 = True and not (True or False)\n",
        "print(bool3)"
      ],
      "metadata": {
        "colab": {
          "base_uri": "https://localhost:8080/"
        },
        "id": "pHPpwsnDwtji",
        "outputId": "6520e3b0-69e7-40d7-fcf1-c76eba05bf73"
      },
      "execution_count": 83,
      "outputs": [
        {
          "output_type": "stream",
          "name": "stdout",
          "text": [
            "False\n"
          ]
        }
      ]
    },
    {
      "cell_type": "markdown",
      "source": [
        "# Exercícios propostos"
      ],
      "metadata": {
        "id": "us77GdH8xAC9"
      }
    },
    {
      "cell_type": "code",
      "source": [
        "falta_comida = False\n",
        "hoje_e_sabado = True\n",
        "vou_ao_mercado = falta_comida or hoje_e_sabado\n",
        "print(vou_ao_mercado)"
      ],
      "metadata": {
        "colab": {
          "base_uri": "https://localhost:8080/"
        },
        "id": "0Tz_fd3CxGii",
        "outputId": "bdf7dfa9-6b35-43eb-f882-6002a8a31324"
      },
      "execution_count": 84,
      "outputs": [
        {
          "output_type": "stream",
          "name": "stdout",
          "text": [
            "True\n"
          ]
        }
      ]
    },
    {
      "cell_type": "code",
      "source": [
        "sinal_vermelho = False\n",
        "carro_na_direita = False\n",
        "carro_na_esquerda = False\n",
        "posso_atravessar_a_rua = sinal_vermelho or (carro_na_direita and carro_na_esquerda)\n",
        "print(posso_atravessar_a_rua)"
      ],
      "metadata": {
        "colab": {
          "base_uri": "https://localhost:8080/"
        },
        "id": "Kh7h2A3zx_je",
        "outputId": "9b099ff8-9b05-4448-f620-06a5e19c5736"
      },
      "execution_count": 85,
      "outputs": [
        {
          "output_type": "stream",
          "name": "stdout",
          "text": [
            "False\n"
          ]
        }
      ]
    },
    {
      "cell_type": "code",
      "source": [
        "sinal_vermelho = True\n",
        "carro_na_direita = True\n",
        "carro_na_esquerda = False\n",
        "posso_atravessar_a_rua = sinal_vermelho or (carro_na_direita and carro_na_esquerda)\n",
        "print(posso_atravessar_a_rua)"
      ],
      "metadata": {
        "colab": {
          "base_uri": "https://localhost:8080/"
        },
        "id": "vMmb22ykyqr9",
        "outputId": "9fe38fe6-984b-47d1-bd32-99cff055d7b7"
      },
      "execution_count": 86,
      "outputs": [
        {
          "output_type": "stream",
          "name": "stdout",
          "text": [
            "True\n"
          ]
        }
      ]
    },
    {
      "cell_type": "markdown",
      "source": [
        "# Casting"
      ],
      "metadata": {
        "id": "Hjt7Ed2h0fec"
      }
    },
    {
      "cell_type": "code",
      "source": [
        "texto = \"Olá\"\n",
        "numero = 2\n",
        "decimal = 1.5\n",
        "booleano = True\n",
        "print(type(texto))\n",
        "print(type(numero))\n",
        "print(type(decimal))\n",
        "print(type(booleano))"
      ],
      "metadata": {
        "colab": {
          "base_uri": "https://localhost:8080/"
        },
        "id": "IJp7J9l00iHa",
        "outputId": "3576ecd5-4600-4943-a5c5-36f19330ab34"
      },
      "execution_count": 87,
      "outputs": [
        {
          "output_type": "stream",
          "name": "stdout",
          "text": [
            "<class 'str'>\n",
            "<class 'int'>\n",
            "<class 'float'>\n",
            "<class 'bool'>\n"
          ]
        }
      ]
    },
    {
      "cell_type": "code",
      "source": [
        "texto1 = \"2\"\n",
        "texto2 = \"1.5\"\n",
        "numero1 = int(texto1)\n",
        "numero2 = float(texto2)\n",
        "print(type(texto))\n",
        "print(type(numero1))\n",
        "print(type(numero2))\n",
        "print(numero1 + numero2)"
      ],
      "metadata": {
        "colab": {
          "base_uri": "https://localhost:8080/"
        },
        "id": "FrOmoos-1Bm8",
        "outputId": "476bc780-ec6f-418a-ae4f-ce99dece882b"
      },
      "execution_count": 90,
      "outputs": [
        {
          "output_type": "stream",
          "name": "stdout",
          "text": [
            "<class 'str'>\n",
            "<class 'int'>\n",
            "<class 'float'>\n",
            "3.5\n"
          ]
        }
      ]
    },
    {
      "cell_type": "code",
      "source": [
        "num = 21.45646\n",
        "inteira = int(num)\n",
        "print(\"A parte inteira de %f é %d\" % (num, inteira))"
      ],
      "metadata": {
        "colab": {
          "base_uri": "https://localhost:8080/"
        },
        "id": "QFf5uxbd1hz5",
        "outputId": "a0efe870-bd7a-4d2a-8061-ab92d3edc700"
      },
      "execution_count": 92,
      "outputs": [
        {
          "output_type": "stream",
          "name": "stdout",
          "text": [
            "A parte inteira de 21.456460 é 21\n"
          ]
        }
      ]
    },
    {
      "cell_type": "code",
      "source": [
        "texto = \"O número é \"\n",
        "numero = 10.3\n",
        "numero_em_string = str(numero)\n",
        "print(texto, numero_em_string)\n",
        "print(type(numero_em_string))"
      ],
      "metadata": {
        "colab": {
          "base_uri": "https://localhost:8080/"
        },
        "id": "BYOYukLq1wqi",
        "outputId": "851dab3f-23d2-4d08-8286-499080818fe8"
      },
      "execution_count": 93,
      "outputs": [
        {
          "output_type": "stream",
          "name": "stdout",
          "text": [
            "O número é  10.3\n",
            "<class 'str'>\n"
          ]
        }
      ]
    },
    {
      "cell_type": "code",
      "source": [
        "numero = 123\n",
        "texto = str(numero)\n",
        "numero_de_digitos = len(texto)\n",
        "print(\"O número %s tem %d digitos\" % (texto, numero_de_digitos))"
      ],
      "metadata": {
        "colab": {
          "base_uri": "https://localhost:8080/"
        },
        "id": "rRBhO7zP2RFz",
        "outputId": "274f589f-6807-44bb-bed7-972962071e05"
      },
      "execution_count": 94,
      "outputs": [
        {
          "output_type": "stream",
          "name": "stdout",
          "text": [
            "O número 123 tem 3 digitos\n"
          ]
        }
      ]
    },
    {
      "cell_type": "code",
      "source": [
        "vazio = None\n",
        "numero_um = 15\n",
        "numero_zero = 0\n",
        "texto = \"Texto\"\n",
        "texto_vazio = \"\"\n",
        "decimal_zero = 0.0\n",
        "decimal = 3.5\n",
        "\n",
        "print(\"Variável tem valor: \", bool(vazio))\n",
        "print(\"Número tem valor: \", bool(numero_um))\n",
        "print(\"Número tem valor: \", bool(numero_zero))\n",
        "print(\"texto tem valor: \", bool(texto))\n",
        "print(\"texto tem valor: \", bool(texto_vazio))\n",
        "print(\"Float tem valor: \", bool(decimal_zero))\n",
        "print(\"Float tem valor: \", bool(decimal))"
      ],
      "metadata": {
        "colab": {
          "base_uri": "https://localhost:8080/"
        },
        "id": "85pO0TVy2wGk",
        "outputId": "deb1bb5b-a52c-42c1-c537-c4ba8662fea1"
      },
      "execution_count": 97,
      "outputs": [
        {
          "output_type": "stream",
          "name": "stdout",
          "text": [
            "Variável tem valor:  False\n",
            "Número tem valor:  True\n",
            "Número tem valor:  False\n",
            "texto tem valor:  True\n",
            "texto tem valor:  False\n",
            "Float tem valor:  False\n",
            "Float tem valor:  True\n"
          ]
        }
      ]
    },
    {
      "cell_type": "markdown",
      "source": [
        "# Exercícios propostos"
      ],
      "metadata": {
        "id": "LmX2ANI-7zP8"
      }
    },
    {
      "cell_type": "code",
      "source": [
        "saldoBancario = \"1500.60\"\n",
        "novo_saldo = float(saldoBancario) - 1000\n",
        "print(\"Tenho no banco R$ %.2f\" % (novo_saldo))"
      ],
      "metadata": {
        "colab": {
          "base_uri": "https://localhost:8080/"
        },
        "id": "O3F3zw5Y7QCG",
        "outputId": "250a86ed-0443-4683-bd56-837a599d869e"
      },
      "execution_count": 103,
      "outputs": [
        {
          "output_type": "stream",
          "name": "stdout",
          "text": [
            "Tenho no banco R$ 500.60\n"
          ]
        }
      ]
    },
    {
      "cell_type": "code",
      "source": [
        "saldo = novo_saldo\n",
        "saldo_zerado = not bool(saldo)\n",
        "print(\"Saldo zerado: \", saldo_zerado)"
      ],
      "metadata": {
        "colab": {
          "base_uri": "https://localhost:8080/"
        },
        "id": "FLvGckDy8U4y",
        "outputId": "13104912-4b13-4caa-8c9f-5e2d48f1649a"
      },
      "execution_count": 107,
      "outputs": [
        {
          "output_type": "stream",
          "name": "stdout",
          "text": [
            "Saldo zerado:  False\n"
          ]
        }
      ]
    },
    {
      "cell_type": "code",
      "source": [
        "altura = 1.74\n",
        "altura_inteira = int(altura)\n",
        "print(\"Tenho pelo menos %i metros de altura \" % (altura_inteira))"
      ],
      "metadata": {
        "colab": {
          "base_uri": "https://localhost:8080/"
        },
        "id": "gFQKZVRX9HcL",
        "outputId": "aea6c97c-9b02-4888-e96c-c18ad3954c64"
      },
      "execution_count": 112,
      "outputs": [
        {
          "output_type": "stream",
          "name": "stdout",
          "text": [
            "Tenho pelo menos 1 metros de altura \n"
          ]
        }
      ]
    },
    {
      "cell_type": "markdown",
      "source": [
        "# Input"
      ],
      "metadata": {
        "id": "9cmCh30IAeac"
      }
    },
    {
      "cell_type": "code",
      "source": [
        "valor_escrito = input()\n",
        "print(type(valor_escrito))\n",
        "print(valor_escrito)"
      ],
      "metadata": {
        "colab": {
          "base_uri": "https://localhost:8080/"
        },
        "id": "JlZp1mGGAdLj",
        "outputId": "e4e3fa72-a94e-4c6f-c5cc-152cb9fc9f9e"
      },
      "execution_count": 114,
      "outputs": [
        {
          "output_type": "stream",
          "name": "stdout",
          "text": [
            "12\n",
            "<class 'str'>\n",
            "12\n"
          ]
        }
      ]
    },
    {
      "cell_type": "code",
      "source": [
        "meu_nome = input()\n",
        "print(\"Eu me chamo %s\" % (meu_nome))"
      ],
      "metadata": {
        "colab": {
          "base_uri": "https://localhost:8080/"
        },
        "id": "cBLJ1bXwBB9j",
        "outputId": "22fbc9ad-5dff-401f-aa1c-a24326c3b597"
      },
      "execution_count": 115,
      "outputs": [
        {
          "output_type": "stream",
          "name": "stdout",
          "text": [
            "Anderson\n",
            "Eu me chamo Anderson\n"
          ]
        }
      ]
    },
    {
      "cell_type": "code",
      "source": [
        "dia = input(\"Insira o dia: \")\n",
        "mes = input(\"Insira o mês: \")\n",
        "ano = input(\"Insira o ano: \")\n",
        "print(\"A data inserida foi %s/%s/%s \" % (dia, mes, ano))"
      ],
      "metadata": {
        "colab": {
          "base_uri": "https://localhost:8080/"
        },
        "id": "ZrLZxY8sBNdd",
        "outputId": "fb224587-208a-4728-dbed-e96083d24905"
      },
      "execution_count": 117,
      "outputs": [
        {
          "output_type": "stream",
          "name": "stdout",
          "text": [
            "Insira o dia: 15\n",
            "Insira o mês: 09\n",
            "Insira o ano: 1992\n",
            "A data inserida foi 15/09/1992 \n"
          ]
        }
      ]
    },
    {
      "cell_type": "code",
      "source": [
        "entrada_usuario = input(\"Digite 1 para verdadeiro e 0 para falso: \")\n",
        "valor_inteiro = int(entrada_usuario)\n",
        "valor_logico = bool(valor_inteiro)\n",
        "print(\"Você escolheu: %s \" % valor_logico)\n",
        "print(\"Ou ainda, você escolheu: %s \" % (valor_inteiro))"
      ],
      "metadata": {
        "colab": {
          "base_uri": "https://localhost:8080/"
        },
        "id": "aXZEIVmrBmOf",
        "outputId": "4cece5b8-1b40-4762-edb4-2c6b4e043cf9"
      },
      "execution_count": 119,
      "outputs": [
        {
          "output_type": "stream",
          "name": "stdout",
          "text": [
            "Digite 1 para verdadeiro e 0 para falso: 0\n",
            "Você escolheu: False \n",
            "Ou ainda, você escolheu: 0 \n"
          ]
        }
      ]
    },
    {
      "cell_type": "markdown",
      "source": [
        "# Exercícios propostos"
      ],
      "metadata": {
        "id": "WHvnz4r-Cz_u"
      }
    },
    {
      "cell_type": "code",
      "source": [
        "informe_num1 = int(input(\"Por favor, informe um número que será dividido: \"))\n",
        "informe_num2 = int(input(\"Agora me informe o divisor: \"))\n",
        "resultadoInformes = informe_num1 / informe_num2\n",
        "print(\"O resultado da divisão é: \", resultadoInformes)"
      ],
      "metadata": {
        "colab": {
          "base_uri": "https://localhost:8080/"
        },
        "id": "ood9Ilj2C3Ea",
        "outputId": "caa6e3f2-06e7-44d5-9c2b-dca09eeb91d0"
      },
      "execution_count": 127,
      "outputs": [
        {
          "output_type": "stream",
          "name": "stdout",
          "text": [
            "Por favor, informe um número que será dividido: 150\n",
            "Agora me informe o divisor: 4\n",
            "O resultado da divisão é:  37.5\n"
          ]
        }
      ]
    },
    {
      "cell_type": "code",
      "source": [
        "informe_dia = input(\"Informe o dia de hoje: \")\n",
        "informe_mes = input(\"Informe o mês atual: \")\n",
        "informe_ano = input(\"Informe o ano atual: \")\n",
        "informe_hora = input(\"Informe a hora atual: \")\n",
        "informe_minuto = input(\"Informe o minuto atual: \")\n",
        "informe_segundo = input(\"Informe o segundo atual: \")\n",
        "\n",
        "print(\"A data de hoje e o horário exato: %s/%s/%s %s:%s:%s\" % (informe_dia, informe_mes, informe_ano, informe_hora, informe_minuto, informe_segundo))"
      ],
      "metadata": {
        "colab": {
          "base_uri": "https://localhost:8080/"
        },
        "id": "Ge7E5j5pHulq",
        "outputId": "d9270641-d12f-4393-e45c-a98c185e0323"
      },
      "execution_count": 131,
      "outputs": [
        {
          "output_type": "stream",
          "name": "stdout",
          "text": [
            "Informe o dia de hoje: 12\n",
            "Informe o mês atual: 04\n",
            "Informe o ano atual: 2024\n",
            "Informe a hora atual: 18\n",
            "Informe o minuto atual: 13\n",
            "Informe o segundo atual: 23\n",
            "A data de hoje e o horário exato: 12/04/2024 18:13:23\n"
          ]
        }
      ]
    },
    {
      "cell_type": "markdown",
      "source": [
        "# Operadores de Atribuição e Combinação de Operadores Lógicos"
      ],
      "metadata": {
        "id": "octHt8BSLJmI"
      }
    },
    {
      "cell_type": "code",
      "source": [
        "numero = 1\n",
        "numero = numero + 1\n",
        "print(numero)"
      ],
      "metadata": {
        "colab": {
          "base_uri": "https://localhost:8080/"
        },
        "id": "WhnZgobnLQV-",
        "outputId": "89c32965-37f0-4b66-bafd-c6c378aba60e"
      },
      "execution_count": 132,
      "outputs": [
        {
          "output_type": "stream",
          "name": "stdout",
          "text": [
            "2\n"
          ]
        }
      ]
    },
    {
      "cell_type": "code",
      "source": [
        "numero = 1\n",
        "numero +=1\n",
        "print(numero)"
      ],
      "metadata": {
        "colab": {
          "base_uri": "https://localhost:8080/"
        },
        "id": "730FB3pbLUCR",
        "outputId": "5eece263-44e4-45f1-9d01-c7ca10a2e56d"
      },
      "execution_count": 134,
      "outputs": [
        {
          "output_type": "stream",
          "name": "stdout",
          "text": [
            "2\n"
          ]
        }
      ]
    },
    {
      "cell_type": "code",
      "source": [
        "numero = 10\n",
        "numero = numero / 2\n",
        "print(numero)"
      ],
      "metadata": {
        "colab": {
          "base_uri": "https://localhost:8080/"
        },
        "id": "GqYaRpwALz97",
        "outputId": "f70d6730-3d83-431e-ab99-7852f1e9cb31"
      },
      "execution_count": 135,
      "outputs": [
        {
          "output_type": "stream",
          "name": "stdout",
          "text": [
            "5.0\n"
          ]
        }
      ]
    },
    {
      "cell_type": "code",
      "source": [
        "numero = 10\n",
        "numero /= 2\n",
        "print(numero)"
      ],
      "metadata": {
        "colab": {
          "base_uri": "https://localhost:8080/"
        },
        "id": "FaRqgPMRL7AS",
        "outputId": "52e552b9-45ce-4e1e-c314-1daef81bf972"
      },
      "execution_count": 136,
      "outputs": [
        {
          "output_type": "stream",
          "name": "stdout",
          "text": [
            "5.0\n"
          ]
        }
      ]
    },
    {
      "cell_type": "code",
      "source": [
        "num = 20\n",
        "booleana = (num == 10)\n",
        "print(booleana)"
      ],
      "metadata": {
        "colab": {
          "base_uri": "https://localhost:8080/"
        },
        "id": "IzeAWozAL_Yo",
        "outputId": "d9e68d3b-1165-4ec9-a13e-eb3da5aedfd1"
      },
      "execution_count": 138,
      "outputs": [
        {
          "output_type": "stream",
          "name": "stdout",
          "text": [
            "False\n"
          ]
        }
      ]
    },
    {
      "cell_type": "code",
      "source": [
        "num1 = 10\n",
        "num2 = 20\n",
        "e_maior = num1 <= num2\n",
        "print(e_maior)"
      ],
      "metadata": {
        "colab": {
          "base_uri": "https://localhost:8080/"
        },
        "id": "cDVko6cKMIhP",
        "outputId": "2d13e84c-97ef-478a-b10e-22610848c69a"
      },
      "execution_count": 140,
      "outputs": [
        {
          "output_type": "stream",
          "name": "stdout",
          "text": [
            "True\n"
          ]
        }
      ]
    },
    {
      "cell_type": "code",
      "source": [
        "num = 5\n",
        "boolean = num > 0 and num < 10\n",
        "print(boolean)"
      ],
      "metadata": {
        "colab": {
          "base_uri": "https://localhost:8080/"
        },
        "id": "Q7GCPerDMp0Z",
        "outputId": "709bd848-cae5-4f25-9c0a-1c3ad81bd8b9"
      },
      "execution_count": 143,
      "outputs": [
        {
          "output_type": "stream",
          "name": "stdout",
          "text": [
            "True\n"
          ]
        }
      ]
    },
    {
      "cell_type": "code",
      "source": [
        "# Ver se é tipo float e igual a 10.1 ou 20.2\n",
        "num = 10.1\n",
        "boolean = type(num) == float and (num == 10.1 or num == 20.2)\n",
        "print(boolean)"
      ],
      "metadata": {
        "colab": {
          "base_uri": "https://localhost:8080/"
        },
        "id": "Qt2jNVN9NL1G",
        "outputId": "2bf91be2-dd65-483f-9ef2-40fcf401739e"
      },
      "execution_count": 145,
      "outputs": [
        {
          "output_type": "stream",
          "name": "stdout",
          "text": [
            "True\n"
          ]
        }
      ]
    },
    {
      "cell_type": "markdown",
      "source": [
        "# Exercícios propostos"
      ],
      "metadata": {
        "id": "QvEDyPffOdL4"
      }
    },
    {
      "cell_type": "code",
      "source": [
        "media_input = input(\"Digite sua média nas provas: \")\n",
        "exame_input = input(\"Digite sua nota no exame: \")\n",
        "media_prova = int(media_input)\n",
        "nota_exame = int(exame_input)\n",
        "aprovado = (media_prova >= 7) or (nota_exame >= 5)\n",
        "print(\"Aprovação: \", aprovado)"
      ],
      "metadata": {
        "colab": {
          "base_uri": "https://localhost:8080/"
        },
        "id": "9DQtYKjWN07I",
        "outputId": "2a4888e3-7f58-41c3-ef45-091f7f622ef5"
      },
      "execution_count": 148,
      "outputs": [
        {
          "output_type": "stream",
          "name": "stdout",
          "text": [
            "Digite sua média nas provas: 7\n",
            "Digite sua nota no exame: 2\n",
            "Aprovação:  True\n"
          ]
        }
      ]
    },
    {
      "cell_type": "code",
      "source": [
        "senha_tentativa = input(\"Digite a senha: \")\n",
        "senha_padrao = \"1234\"\n",
        "print(\"Senha está correta? \", senha_tentativa == senha_padrao)"
      ],
      "metadata": {
        "colab": {
          "base_uri": "https://localhost:8080/"
        },
        "id": "IR9vphWFQvJA",
        "outputId": "e265b217-1d2f-4fc8-a0e0-d56999d35473"
      },
      "execution_count": 149,
      "outputs": [
        {
          "output_type": "stream",
          "name": "stdout",
          "text": [
            "Digite a senha: 1234\n",
            "Senha está correta?  True\n"
          ]
        }
      ]
    },
    {
      "cell_type": "markdown",
      "source": [
        "# Slicing"
      ],
      "metadata": {
        "id": "yake4VgVRLBO"
      }
    },
    {
      "cell_type": "code",
      "source": [
        "nome = \"Anderson da Silva Souza\"\n",
        "nome[0:8]"
      ],
      "metadata": {
        "colab": {
          "base_uri": "https://localhost:8080/",
          "height": 35
        },
        "id": "TediXSujRNt5",
        "outputId": "058b3a60-8397-40f8-bdd0-a5d5c750acd7"
      },
      "execution_count": 155,
      "outputs": [
        {
          "output_type": "execute_result",
          "data": {
            "text/plain": [
              "'Anderson'"
            ],
            "application/vnd.google.colaboratory.intrinsic+json": {
              "type": "string"
            }
          },
          "metadata": {},
          "execution_count": 155
        }
      ]
    },
    {
      "cell_type": "code",
      "source": [
        "texto1 = \"olá\"\n",
        "texto2 = \", \"\n",
        "texto3 = \"tudo bem?\"\n",
        "texto_completo = texto1 + texto2 + texto3\n",
        "print(texto_completo)"
      ],
      "metadata": {
        "colab": {
          "base_uri": "https://localhost:8080/"
        },
        "id": "ekLiI7HHR45K",
        "outputId": "b3df5b2c-9f69-4b0e-e5d4-fb05102cfde2"
      },
      "execution_count": 160,
      "outputs": [
        {
          "output_type": "stream",
          "name": "stdout",
          "text": [
            "olá, tudo bem?\n"
          ]
        }
      ]
    },
    {
      "cell_type": "code",
      "source": [
        "texto1 = \"olá\"\n",
        "texto1 += \" mundo\"\n",
        "print(texto1)"
      ],
      "metadata": {
        "colab": {
          "base_uri": "https://localhost:8080/"
        },
        "id": "zgDsDdt6SPAm",
        "outputId": "3604cb60-f034-4ad8-833b-66ef54f0348b"
      },
      "execution_count": 159,
      "outputs": [
        {
          "output_type": "stream",
          "name": "stdout",
          "text": [
            "olá mundo\n"
          ]
        }
      ]
    },
    {
      "cell_type": "code",
      "source": [
        "texto = \"Python é bem produtivo, \"\n",
        "texto_repetido = texto * 3\n",
        "print(texto_repetido)"
      ],
      "metadata": {
        "colab": {
          "base_uri": "https://localhost:8080/"
        },
        "id": "RFRkk9vlSib1",
        "outputId": "5516992b-2f9e-41f9-888f-82885e2152c0"
      },
      "execution_count": 162,
      "outputs": [
        {
          "output_type": "stream",
          "name": "stdout",
          "text": [
            "Python é bem produtivo, Python é bem produtivo, Python é bem produtivo, \n"
          ]
        }
      ]
    },
    {
      "cell_type": "code",
      "source": [
        "texto = \"exemplo\"\n",
        "print(texto[0])\n",
        "print(texto[1])\n",
        "print(texto[2])\n",
        "print(texto[3])\n",
        "print(texto[4])\n",
        "print(texto[5])\n",
        "print(texto[6])"
      ],
      "metadata": {
        "colab": {
          "base_uri": "https://localhost:8080/"
        },
        "id": "QQ8_ZXA2SzYo",
        "outputId": "996d53cd-8cc0-43af-dc68-9822b66d6755"
      },
      "execution_count": 163,
      "outputs": [
        {
          "output_type": "stream",
          "name": "stdout",
          "text": [
            "e\n",
            "x\n",
            "e\n",
            "m\n",
            "p\n",
            "l\n",
            "o\n"
          ]
        }
      ]
    },
    {
      "cell_type": "code",
      "source": [
        "texto = \"exemplo\"\n",
        "print(texto[1:4])\n",
        "print(texto[3:])\n",
        "print(texto[:5])"
      ],
      "metadata": {
        "colab": {
          "base_uri": "https://localhost:8080/"
        },
        "id": "u021fa4iTH5f",
        "outputId": "5ab6b80e-4408-40ab-9594-f364c79aeaba"
      },
      "execution_count": 167,
      "outputs": [
        {
          "output_type": "stream",
          "name": "stdout",
          "text": [
            "xem\n",
            "mplo\n",
            "exemp\n"
          ]
        }
      ]
    },
    {
      "cell_type": "code",
      "source": [
        "texto = \"carro\"\n",
        "print(texto[-4])\n",
        "print(texto[-4:])\n",
        "print(texto[:-1])\n",
        "print(texto[-5:-2])"
      ],
      "metadata": {
        "colab": {
          "base_uri": "https://localhost:8080/"
        },
        "id": "LUUWjF4ATv7L",
        "outputId": "84757d9b-3837-4286-a38d-4d75928f7df5"
      },
      "execution_count": 171,
      "outputs": [
        {
          "output_type": "stream",
          "name": "stdout",
          "text": [
            "a\n",
            "arro\n",
            "carr\n",
            "car\n"
          ]
        }
      ]
    },
    {
      "cell_type": "code",
      "source": [
        "texto = \"metro\"\n",
        "print(texto[::-1])\n",
        "print(texto[3::-1])\n",
        "print(texto[3:1:-1])"
      ],
      "metadata": {
        "colab": {
          "base_uri": "https://localhost:8080/"
        },
        "id": "VCTp6WU_UQo9",
        "outputId": "fcf373bf-b2e5-4c8c-8860-3076a617f507"
      },
      "execution_count": 174,
      "outputs": [
        {
          "output_type": "stream",
          "name": "stdout",
          "text": [
            "ortem\n",
            "rtem\n",
            "rt\n"
          ]
        }
      ]
    },
    {
      "cell_type": "code",
      "source": [
        "texto = \"023\"\n",
        "texto = \"1\" + texto[1:]\n",
        "print(texto)"
      ],
      "metadata": {
        "colab": {
          "base_uri": "https://localhost:8080/"
        },
        "id": "ovPJJwb9UY_B",
        "outputId": "ee1a6313-84ee-4425-80dc-938a664f8054"
      },
      "execution_count": 177,
      "outputs": [
        {
          "output_type": "stream",
          "name": "stdout",
          "text": [
            "123\n"
          ]
        }
      ]
    },
    {
      "cell_type": "code",
      "source": [
        "texto1 = \"Olá\"\n",
        "texto2 = \"Olá\"\n",
        "igual = texto1 == texto2\n",
        "print(\"Textos são iguais? \", igual)"
      ],
      "metadata": {
        "colab": {
          "base_uri": "https://localhost:8080/"
        },
        "id": "Ysoh9F9OVj8w",
        "outputId": "5a0279ce-87c8-4780-df0c-9c3ef0ed95b8"
      },
      "execution_count": 178,
      "outputs": [
        {
          "output_type": "stream",
          "name": "stdout",
          "text": [
            "Textos são iguais?  True\n"
          ]
        }
      ]
    },
    {
      "cell_type": "code",
      "source": [
        "print(\"a\" != \"b\")"
      ],
      "metadata": {
        "colab": {
          "base_uri": "https://localhost:8080/"
        },
        "id": "AE17Joo6VyWc",
        "outputId": "89342379-032e-4ca0-a42e-bcdcbf9c8d55"
      },
      "execution_count": 179,
      "outputs": [
        {
          "output_type": "stream",
          "name": "stdout",
          "text": [
            "True\n"
          ]
        }
      ]
    },
    {
      "cell_type": "code",
      "source": [
        "texto = \"Programação\"\n",
        "print(\"a\" in texto)\n",
        "print(\"e\" in texto)\n",
        "print(\"Programa\" in texto)\n",
        "print(\"Programa\" not in texto)\n",
        "print(\"vinte\" not in texto)"
      ],
      "metadata": {
        "colab": {
          "base_uri": "https://localhost:8080/"
        },
        "id": "JRpc2KbfV4uP",
        "outputId": "13bf5d6c-4b7f-4dcb-dde0-4001d32c8293"
      },
      "execution_count": 182,
      "outputs": [
        {
          "output_type": "stream",
          "name": "stdout",
          "text": [
            "True\n",
            "False\n",
            "True\n",
            "False\n",
            "True\n"
          ]
        }
      ]
    },
    {
      "cell_type": "code",
      "source": [
        "tamanho = len(texto)\n",
        "print(tamanho)"
      ],
      "metadata": {
        "colab": {
          "base_uri": "https://localhost:8080/"
        },
        "id": "5ltIOHggWaR_",
        "outputId": "c7dee0f4-a3dc-4bc7-e4b1-f936e5cca9bd"
      },
      "execution_count": 183,
      "outputs": [
        {
          "output_type": "stream",
          "name": "stdout",
          "text": [
            "11\n"
          ]
        }
      ]
    },
    {
      "cell_type": "markdown",
      "source": [
        "# Exercícios propostos:"
      ],
      "metadata": {
        "id": "q6iindBrWw0h"
      }
    },
    {
      "cell_type": "code",
      "source": [
        "nome_completo = \"Anderson da Silva Souza\"\n",
        "nome = nome_completo[:8]\n",
        "sobrenome = nome_completo[12:17]\n",
        "ultimo_nome = nome_completo[18:]\n",
        "print(nome)\n",
        "print(sobrenome)\n",
        "print(ultimo_nome)"
      ],
      "metadata": {
        "colab": {
          "base_uri": "https://localhost:8080/"
        },
        "id": "OQ63soKfWwSb",
        "outputId": "6216cc62-287f-4cb7-b03d-766c0e79e9cb"
      },
      "execution_count": 189,
      "outputs": [
        {
          "output_type": "stream",
          "name": "stdout",
          "text": [
            "Anderson\n",
            "Silva\n",
            "Souza\n"
          ]
        }
      ]
    },
    {
      "cell_type": "code",
      "source": [
        "string = input(\"Digite um palavra qualquer: \")\n",
        "string = string[:-1]\n",
        "print(string)"
      ],
      "metadata": {
        "colab": {
          "base_uri": "https://localhost:8080/"
        },
        "id": "d1fVsfYcXwDh",
        "outputId": "4217cb3f-a810-4a8b-afdc-e7b276a2ac3e"
      },
      "execution_count": 190,
      "outputs": [
        {
          "output_type": "stream",
          "name": "stdout",
          "text": [
            "Digite um palavra qualquer: Programação\n",
            "Programaçã\n"
          ]
        }
      ]
    },
    {
      "cell_type": "code",
      "source": [
        "texto = input(\"Digite uma palavra: \")\n",
        "possui_vogal = (\"a\" in texto) or (\"e\" in texto) or (\"i\" in texto) or (\"o\" in texto) or (\"u\" in texto)\n",
        "print(\"Possui vogal? \", possui_vogal)"
      ],
      "metadata": {
        "colab": {
          "base_uri": "https://localhost:8080/"
        },
        "id": "9sveh-bzYCaZ",
        "outputId": "8f64acaf-3862-49cc-9da6-6d70a8d54001"
      },
      "execution_count": 192,
      "outputs": [
        {
          "output_type": "stream",
          "name": "stdout",
          "text": [
            "Digite uma palavra: som\n",
            "Possui vogal?  True\n"
          ]
        }
      ]
    },
    {
      "cell_type": "code",
      "source": [
        "texto = input(\"Digite uma palavra: \")\n",
        "texto = \"ABC\" + texto[0:]\n",
        "print(texto)"
      ],
      "metadata": {
        "colab": {
          "base_uri": "https://localhost:8080/"
        },
        "id": "SDSUOWSGYwHu",
        "outputId": "496e8724-49ec-4126-9542-35bbfc29d1e8"
      },
      "execution_count": 193,
      "outputs": [
        {
          "output_type": "stream",
          "name": "stdout",
          "text": [
            "Digite uma palavra: olho\n",
            "ABColho\n"
          ]
        }
      ]
    }
  ]
}
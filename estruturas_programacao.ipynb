{
  "nbformat": 4,
  "nbformat_minor": 0,
  "metadata": {
    "colab": {
      "provenance": []
    },
    "kernelspec": {
      "name": "python3",
      "display_name": "Python 3"
    },
    "language_info": {
      "name": "python"
    }
  },
  "cells": [
    {
      "cell_type": "markdown",
      "source": [
        "# IF"
      ],
      "metadata": {
        "id": "GQo2Onju2i0y"
      }
    },
    {
      "cell_type": "code",
      "execution_count": 1,
      "metadata": {
        "colab": {
          "base_uri": "https://localhost:8080/"
        },
        "id": "uSqA3hNx2WHd",
        "outputId": "171cb486-53dd-48a9-8d81-f8f538d59054"
      },
      "outputs": [
        {
          "output_type": "stream",
          "name": "stdout",
          "text": [
            "Isto está fora dos ifs: \n",
            "Este código vai ser executado\n",
            "Isto está fora dos ifs: \n",
            "Isto está fora dos ifs: \n"
          ]
        }
      ],
      "source": [
        "print(\"Isto está fora dos ifs: \")\n",
        "if (True):\n",
        "  print(\"Este código vai ser executado\")\n",
        "\n",
        "print(\"Isto está fora dos ifs: \")\n",
        "\n",
        "if (False):\n",
        "  print(\"Este código não vai ser executado.\")\n",
        "\n",
        "print(\"Isto está fora dos ifs: \")\n"
      ]
    },
    {
      "cell_type": "code",
      "source": [
        "if (True):\n",
        "  pass"
      ],
      "metadata": {
        "id": "9t21x2St40Ez"
      },
      "execution_count": 2,
      "outputs": []
    },
    {
      "cell_type": "code",
      "source": [
        "valor1 = 10\n",
        "valor2 = 10\n",
        "sao_iguais = (valor1 == valor2)\n",
        "if sao_iguais:\n",
        "  print(\"São iguais.\")"
      ],
      "metadata": {
        "colab": {
          "base_uri": "https://localhost:8080/"
        },
        "id": "tOmI4tps434u",
        "outputId": "23053416-f494-4ed5-acaf-5f228c2e532f"
      },
      "execution_count": 3,
      "outputs": [
        {
          "output_type": "stream",
          "name": "stdout",
          "text": [
            "São iguais.\n"
          ]
        }
      ]
    },
    {
      "cell_type": "code",
      "source": [
        "valor1 = 10\n",
        "valor2 = 10\n",
        "if (valor1 == valor2):\n",
        "  print(\"São iguais.\")\n",
        "  print(\"São iguais parte II.\")"
      ],
      "metadata": {
        "colab": {
          "base_uri": "https://localhost:8080/"
        },
        "id": "Mh9Zr-cj5tbr",
        "outputId": "1e135c40-f76d-48bd-b2ca-83a4e1af9051"
      },
      "execution_count": 4,
      "outputs": [
        {
          "output_type": "stream",
          "name": "stdout",
          "text": [
            "São iguais.\n",
            "São iguais parte II.\n"
          ]
        }
      ]
    },
    {
      "cell_type": "code",
      "source": [
        "valor1 = 10\n",
        "valor2 = 10\n",
        "if (valor1 == valor2): print(\"São iguais.\")\n"
      ],
      "metadata": {
        "colab": {
          "base_uri": "https://localhost:8080/"
        },
        "id": "S4czKtmo7AE8",
        "outputId": "a67f600b-0ca8-42dc-8e51-61c33b1d08ea"
      },
      "execution_count": 5,
      "outputs": [
        {
          "output_type": "stream",
          "name": "stdout",
          "text": [
            "São iguais.\n"
          ]
        }
      ]
    },
    {
      "cell_type": "code",
      "source": [
        "if (10 != 20):\n",
        "  print(\"São diferentes. 1\")\n",
        "\n",
        "if (10 != 10):\n",
        "  print(\"São diferentes. 2\")\n",
        "\n",
        "if (\"olá\" != \"alo\"):\n",
        "  print(\"São diferentes. 3\")"
      ],
      "metadata": {
        "colab": {
          "base_uri": "https://localhost:8080/"
        },
        "id": "L8xkUS8d7EsP",
        "outputId": "f4e6b49c-88b2-4b35-da76-621f3c7fb492"
      },
      "execution_count": 6,
      "outputs": [
        {
          "output_type": "stream",
          "name": "stdout",
          "text": [
            "São diferentes. 1\n",
            "São diferentes. 3\n"
          ]
        }
      ]
    },
    {
      "cell_type": "code",
      "source": [
        "numero = 11\n",
        "if (numero > 10):\n",
        "  print(\"é maior que 10\")"
      ],
      "metadata": {
        "colab": {
          "base_uri": "https://localhost:8080/"
        },
        "id": "1zTx_Kgm7Hbt",
        "outputId": "bb7fef42-dc07-46a7-9f0e-bbfca9d28bd0"
      },
      "execution_count": 7,
      "outputs": [
        {
          "output_type": "stream",
          "name": "stdout",
          "text": [
            "é maior que 10\n"
          ]
        }
      ]
    },
    {
      "cell_type": "code",
      "source": [
        "nome = input(\"Digite seu nome:\")\n",
        "if \"a\" in nome or \"A\" in nome:\n",
        "  print(\"Possui a letra \\'a'\")"
      ],
      "metadata": {
        "colab": {
          "base_uri": "https://localhost:8080/"
        },
        "id": "-0LgLj7r7pT5",
        "outputId": "5cf12d6c-4db6-4578-95cc-0978634e4d25"
      },
      "execution_count": 8,
      "outputs": [
        {
          "output_type": "stream",
          "name": "stdout",
          "text": [
            "Digite seu nome:Anderson\n",
            "Possui a letra 'a'\n"
          ]
        }
      ]
    },
    {
      "cell_type": "code",
      "source": [
        "nome = input(\"Digite seu nome: \")\n",
        "possui_vogal = (\"a\" in nome) or (\"e\" in nome) or (\"i\" in nome) or (\"o\" in nome) or (\"u\" in nome)\n",
        "if possui_vogal:\n",
        "  print(\"Possui alguma vogal.\")"
      ],
      "metadata": {
        "colab": {
          "base_uri": "https://localhost:8080/"
        },
        "id": "43chewTm8sUu",
        "outputId": "68681012-078b-433e-b016-21a20012c990"
      },
      "execution_count": 9,
      "outputs": [
        {
          "output_type": "stream",
          "name": "stdout",
          "text": [
            "Digite seu nome: José\n",
            "Possui alguma vogal.\n"
          ]
        }
      ]
    },
    {
      "cell_type": "markdown",
      "source": [
        "# Else:"
      ],
      "metadata": {
        "id": "e3zmLJWi9MsY"
      }
    },
    {
      "cell_type": "code",
      "source": [
        "numero = 10\n",
        "if (numero >= 10):\n",
        "  print(\"É maior ou igual a 10\")\n",
        "else:\n",
        "  print(\"É menor que 10.\")"
      ],
      "metadata": {
        "colab": {
          "base_uri": "https://localhost:8080/"
        },
        "id": "Z7GzfqnQ9LWT",
        "outputId": "e43f92ef-2f51-44e7-c4a3-93c3b5d1fa5f"
      },
      "execution_count": 10,
      "outputs": [
        {
          "output_type": "stream",
          "name": "stdout",
          "text": [
            "É maior ou igual a 10\n"
          ]
        }
      ]
    },
    {
      "cell_type": "code",
      "source": [
        "numero = 9\n",
        "if (numero >= 10):\n",
        "  print(\"É maior ou igual a 10\")\n",
        "  print(\"-----\")\n",
        "else:\n",
        "  print(\"É menor que 10.\")\n",
        "  print(\"********\")\n",
        "print(\"Fim\")"
      ],
      "metadata": {
        "colab": {
          "base_uri": "https://localhost:8080/"
        },
        "id": "_yQEc9X09uzD",
        "outputId": "42b2a9c0-88b3-41fe-992b-308073b8c7c3"
      },
      "execution_count": 11,
      "outputs": [
        {
          "output_type": "stream",
          "name": "stdout",
          "text": [
            "É menor que 10.\n",
            "********\n",
            "Fim\n"
          ]
        }
      ]
    },
    {
      "cell_type": "code",
      "source": [
        "numero = 1\n",
        "if (numero % 2 == 0):\n",
        "  print(\"É par\")\n",
        "else:\n",
        " print(\"É impar\")"
      ],
      "metadata": {
        "colab": {
          "base_uri": "https://localhost:8080/"
        },
        "id": "tJc5ycr6_q6r",
        "outputId": "4398394a-1474-4896-bf2e-7a7fd3333f04"
      },
      "execution_count": 12,
      "outputs": [
        {
          "output_type": "stream",
          "name": "stdout",
          "text": [
            "É impar\n"
          ]
        }
      ]
    },
    {
      "cell_type": "code",
      "source": [
        "valor = 11\n",
        "if valor >= 0 and valor < 10:\n",
        "  print(valor)\n",
        "else:\n",
        " print(\"Valor não aceito\")"
      ],
      "metadata": {
        "colab": {
          "base_uri": "https://localhost:8080/"
        },
        "id": "2u8Tni3oABqB",
        "outputId": "96722c2d-deb5-47b3-af38-31d5f61e58d2"
      },
      "execution_count": 13,
      "outputs": [
        {
          "output_type": "stream",
          "name": "stdout",
          "text": [
            "Valor não aceito\n"
          ]
        }
      ]
    },
    {
      "cell_type": "code",
      "source": [
        "texto = \"a\"\n",
        "if len(texto) == 1:\n",
        "  print(\"Tem 1 caractere\")\n",
        "else:\n",
        "  print(\"Não tem um caractere\")"
      ],
      "metadata": {
        "colab": {
          "base_uri": "https://localhost:8080/"
        },
        "id": "0fO3jDslAU5A",
        "outputId": "377c1afb-ef4c-447f-a4f1-be0f8bcaf230"
      },
      "execution_count": 14,
      "outputs": [
        {
          "output_type": "stream",
          "name": "stdout",
          "text": [
            "Tem 1 caractere\n"
          ]
        }
      ]
    },
    {
      "cell_type": "code",
      "source": [
        "numero = 1\n",
        "if numero ==1 or numero ==0:\n",
        "  print(\"É 1 ou 0\")"
      ],
      "metadata": {
        "colab": {
          "base_uri": "https://localhost:8080/"
        },
        "id": "S-GxlA7kAyUD",
        "outputId": "aff574df-9500-4269-823a-2cf7cd75f97e"
      },
      "execution_count": 15,
      "outputs": [
        {
          "output_type": "stream",
          "name": "stdout",
          "text": [
            "É 1 ou 0\n"
          ]
        }
      ]
    },
    {
      "cell_type": "code",
      "source": [
        "numero = 11\n",
        "condicao = numero > 10 or numero < -10\n",
        "if condicao:\n",
        "  print(\"Absolutamente maior que 10\")\n"
      ],
      "metadata": {
        "colab": {
          "base_uri": "https://localhost:8080/"
        },
        "id": "oxuKNFP5BHZO",
        "outputId": "6249406c-1f72-4913-a8b5-cabb24b18876"
      },
      "execution_count": 16,
      "outputs": [
        {
          "output_type": "stream",
          "name": "stdout",
          "text": [
            "Absolutamente maior que 10\n"
          ]
        }
      ]
    },
    {
      "cell_type": "code",
      "source": [
        "numero =9\n",
        "if numero > 0:\n",
        "  print(\"Número maior que zero\")\n",
        "  if numero > 10:\n",
        "    print(\"Número maior que 10\")"
      ],
      "metadata": {
        "colab": {
          "base_uri": "https://localhost:8080/"
        },
        "id": "42pk1HPnBkHq",
        "outputId": "372d533d-2723-4d4e-8b0a-d3043bc48aae"
      },
      "execution_count": 17,
      "outputs": [
        {
          "output_type": "stream",
          "name": "stdout",
          "text": [
            "Número maior que zero\n"
          ]
        }
      ]
    },
    {
      "cell_type": "code",
      "source": [
        "numero = 1001\n",
        "if numero < 10:\n",
        "  print(\"Menor que 10\")\n",
        "elif numero < 100:\n",
        "  print(\"Menor que 100\")\n",
        "elif numero <=1000:\n",
        "  print(\"Menor ou igual a 1000\")\n",
        "else:\n",
        "  print(\"Nenhuma anterior.\")"
      ],
      "metadata": {
        "colab": {
          "base_uri": "https://localhost:8080/"
        },
        "id": "ONKFZS-_IloS",
        "outputId": "62fd127a-830b-4a01-c4cc-601931cc6d8a"
      },
      "execution_count": 18,
      "outputs": [
        {
          "output_type": "stream",
          "name": "stdout",
          "text": [
            "Nenhuma anterior.\n"
          ]
        }
      ]
    },
    {
      "cell_type": "code",
      "source": [
        "texto = 'd'\n",
        "if texto == 'a':\n",
        "  print(\"É vogal a\")\n",
        "elif texto == 'e':\n",
        "  print(\"É vogal e\")\n",
        "if texto == 'i':\n",
        "  print(\"É vogal i\")\n",
        "elif texto == 'o':\n",
        "  print(\"É vogal o\")\n",
        "elif texto == 'u':\n",
        "  print(\"É vogal u\")\n",
        "else:\n",
        "  print(\"É consoante\")"
      ],
      "metadata": {
        "colab": {
          "base_uri": "https://localhost:8080/"
        },
        "id": "369XIK6bKp8G",
        "outputId": "b5ceee2a-7997-495b-caea-d1780b3554e8"
      },
      "execution_count": 19,
      "outputs": [
        {
          "output_type": "stream",
          "name": "stdout",
          "text": [
            "É consoante\n"
          ]
        }
      ]
    },
    {
      "cell_type": "code",
      "source": [
        "numero = 11\n",
        "resultado = 'PAR' if numero % 2 == 0 else 'IMPAR'\n",
        "print(resultado)"
      ],
      "metadata": {
        "colab": {
          "base_uri": "https://localhost:8080/"
        },
        "id": "RirXCkgPLz7h",
        "outputId": "96d4ceb3-ce0a-4c37-a5b5-61e94933d9fc"
      },
      "execution_count": 20,
      "outputs": [
        {
          "output_type": "stream",
          "name": "stdout",
          "text": [
            "IMPAR\n"
          ]
        }
      ]
    },
    {
      "cell_type": "code",
      "source": [
        "numero = 3\n",
        "resultado = \"Um\" if numero == 1 else \"Dois\" if numero == 2 else \"Três\"\n",
        "print(resultado)"
      ],
      "metadata": {
        "colab": {
          "base_uri": "https://localhost:8080/"
        },
        "id": "ck1dDaiXMX5n",
        "outputId": "740c6629-a403-4a85-951f-86da4e9082f2"
      },
      "execution_count": 21,
      "outputs": [
        {
          "output_type": "stream",
          "name": "stdout",
          "text": [
            "Três\n"
          ]
        }
      ]
    },
    {
      "cell_type": "markdown",
      "source": [
        "# Exercícios:"
      ],
      "metadata": {
        "id": "AW8kVhG0Nb6O"
      }
    },
    {
      "cell_type": "code",
      "source": [
        "saldo_entrada = input(\"Digite o valor do seu saldo: \")\n",
        "saldo_devedor_entrada = input(\"Digite o quanto você deve: \")\n",
        "saldo = float(saldo_entrada)\n",
        "devido = float(saldo_devedor_entrada)\n",
        "resultado = (saldo - devido)\n",
        "if (resultado >= 0):\n",
        "  print(\"Seu saldo é positivo, você tem R$ %.2f\" % (resultado))\n",
        "else:\n",
        "  print(\"Seu saldo é negativo, você deve R$ %.2f\" % (resultado))"
      ],
      "metadata": {
        "colab": {
          "base_uri": "https://localhost:8080/"
        },
        "id": "QslyTMJPNivw",
        "outputId": "7224ba92-80fc-426f-8479-9313f8c9f200"
      },
      "execution_count": 22,
      "outputs": [
        {
          "output_type": "stream",
          "name": "stdout",
          "text": [
            "Digite o valor do seu saldo: 6000\n",
            "Digite o quanto você deve: 2351\n",
            "Seu saldo é positivo, você tem R$ 3649.00\n"
          ]
        }
      ]
    },
    {
      "cell_type": "code",
      "source": [
        "cpf = '12345678901'\n",
        "senha = 1234 # por padrão um input é uma string ----> \"1234\" não seria necessário fazer conversão.\n",
        "\n",
        "digiteSenha = int(input(\"Coloque sua senha de 4 digitos: \"))\n",
        "if digiteSenha == senha:\n",
        "  print(\"Seu cpf é: {} \" .format(cpf))\n",
        "else:\n",
        "  print(\"Sua senha está errada.\")"
      ],
      "metadata": {
        "colab": {
          "base_uri": "https://localhost:8080/"
        },
        "id": "ki4nTuEWOkrg",
        "outputId": "b949fa31-15c9-401b-a2b8-b5723996479e"
      },
      "execution_count": 23,
      "outputs": [
        {
          "output_type": "stream",
          "name": "stdout",
          "text": [
            "Coloque sua senha de 4 digitos: 1234\n",
            "Seu cpf é: 12345678901 \n"
          ]
        }
      ]
    },
    {
      "cell_type": "code",
      "source": [
        "idade = int(input(\"Por favor, digite a sua idade: \"))\n",
        "\n",
        "if idade <= 3:\n",
        "  print(\"Você é um bebê\")\n",
        "elif idade <= 13:\n",
        "  print(\"Você é uma criança\")\n",
        "elif idade <= 18:\n",
        "  print(\"Você é um adolescente\")\n",
        "elif idade <= 65:\n",
        "  print(\"Você é um adulto\")\n",
        "else:\n",
        "  print(\"Você é um idoso\")"
      ],
      "metadata": {
        "colab": {
          "base_uri": "https://localhost:8080/"
        },
        "id": "ag1VMUGaRDZX",
        "outputId": "c9c7e481-1a1e-44d9-a9df-0b844ee7997f"
      },
      "execution_count": 24,
      "outputs": [
        {
          "output_type": "stream",
          "name": "stdout",
          "text": [
            "Por favor, digite a sua idade: 32\n",
            "Você é um adulto\n"
          ]
        }
      ]
    },
    {
      "cell_type": "code",
      "source": [
        "numero1 = int(input(\"Digite o primeiro número: \"))\n",
        "numero2 = int(input(\"Digite o segundo número: \"))\n",
        "print('''\n",
        "         Escolha qual operação matemática deseja fazer:\n",
        "\n",
        "         1 - Soma (+)\n",
        "         2 - Subtração (-)\n",
        "         3 - Divisão (/)\n",
        "         4 - Multiplicação (*)\n",
        "         ''')\n",
        "operacao = int(input(\"A operação desejada foi: \"))\n",
        "\n",
        "if operacao == 1:\n",
        "  soma = (numero1 + numero2)\n",
        "  print(\"O resultado da soma dos números é: {}\" .format(soma))\n",
        "\n",
        "if operacao == 2:\n",
        "  subtracao = (numero1 - numero2)\n",
        "  print(\"O resultado da subtração dos números é: {}\" .format(subtracao))\n",
        "\n",
        "if operacao == 3:\n",
        "  divisao = (numero1 / numero2)\n",
        "  print(\"O resultado da divisão dos números é: {}\" .format(divisao))\n",
        "\n",
        "if operacao == 4:\n",
        "  multiplicacao = (numero1 * numero2)\n",
        "  print(\"O resultado da multiplicação dos números é: {}\" .format(multiplicacao))"
      ],
      "metadata": {
        "colab": {
          "base_uri": "https://localhost:8080/"
        },
        "id": "mF3FvD8PSQ7p",
        "outputId": "8f814eec-4b6d-4159-c8ee-6be9a4654992"
      },
      "execution_count": 25,
      "outputs": [
        {
          "output_type": "stream",
          "name": "stdout",
          "text": [
            "Digite o primeiro número: 60\n",
            "Digite o segundo número: 3\n",
            "\n",
            "         Escolha qual operação matemática deseja fazer:\n",
            "\n",
            "         1 - Soma (+)\n",
            "         2 - Subtração (-)\n",
            "         3 - Divisão (/)\n",
            "         4 - Multiplicação (*)\n",
            "         \n",
            "A operação desejada foi: 4\n",
            "O resultado da multiplicação dos números é: 180\n"
          ]
        }
      ]
    },
    {
      "cell_type": "markdown",
      "source": [
        "# Laços / Loops"
      ],
      "metadata": {
        "id": "9Z886yWLuRZ-"
      }
    },
    {
      "cell_type": "code",
      "source": [
        "#while (True):\n",
        "#  print('Isso não vai parar')"
      ],
      "metadata": {
        "id": "EsfvNN-kuQuk"
      },
      "execution_count": 26,
      "outputs": []
    },
    {
      "cell_type": "code",
      "source": [
        "interacao = 10\n",
        "while (interacao > 0):\n",
        "  print(interacao)\n",
        "  interacao -= 1\n",
        "print(\"Encerrou!\")"
      ],
      "metadata": {
        "colab": {
          "base_uri": "https://localhost:8080/"
        },
        "id": "dh9I7BQAu4iE",
        "outputId": "81a11914-7d61-44cf-b1c6-890e578997dc"
      },
      "execution_count": 27,
      "outputs": [
        {
          "output_type": "stream",
          "name": "stdout",
          "text": [
            "10\n",
            "9\n",
            "8\n",
            "7\n",
            "6\n",
            "5\n",
            "4\n",
            "3\n",
            "2\n",
            "1\n",
            "Encerrou!\n"
          ]
        }
      ]
    },
    {
      "cell_type": "code",
      "source": [
        "indice = 10\n",
        "print(\"Programa começou\")\n",
        "while (indice >= 2):\n",
        "  resto = (indice % 2)\n",
        "  if resto == 0:\n",
        "    print(\"O número  %d é par\" % (indice))\n",
        "  else:\n",
        "    print(\"O número %d é impar\" % (indice))\n",
        "  indice -= 1\n",
        "\n",
        "print (\"Programa finalizou\")"
      ],
      "metadata": {
        "colab": {
          "base_uri": "https://localhost:8080/"
        },
        "id": "uFYXBTlmvPHx",
        "outputId": "dfdede00-b936-43dc-8228-b7d70479593b"
      },
      "execution_count": 28,
      "outputs": [
        {
          "output_type": "stream",
          "name": "stdout",
          "text": [
            "Programa começou\n",
            "O número  10 é par\n",
            "O número 9 é impar\n",
            "O número  8 é par\n",
            "O número 7 é impar\n",
            "O número  6 é par\n",
            "O número 5 é impar\n",
            "O número  4 é par\n",
            "O número 3 é impar\n",
            "O número  2 é par\n",
            "Programa finalizou\n"
          ]
        }
      ]
    },
    {
      "cell_type": "code",
      "source": [
        "soma = 0\n",
        "numeros_lidos = 0\n",
        "\n",
        "while (numeros_lidos < 5):\n",
        "  num_str = input(\"Digite um valor: \")\n",
        "  num_lido = float(num_str)\n",
        "  soma += num_lido\n",
        "  numeros_lidos += 1\n",
        "\n",
        "print(\"Soma é %.2f \" % (soma))"
      ],
      "metadata": {
        "colab": {
          "base_uri": "https://localhost:8080/"
        },
        "id": "2Cen_CRkwKLn",
        "outputId": "0ff85e7e-a2a1-4f94-89a2-d3bbdafdc6c0"
      },
      "execution_count": 29,
      "outputs": [
        {
          "output_type": "stream",
          "name": "stdout",
          "text": [
            "Digite um valor: 50\n",
            "Digite um valor: 2\n",
            "Digite um valor: 5\n",
            "Digite um valor: 20\n",
            "Digite um valor: 30\n",
            "Soma é 107.00 \n"
          ]
        }
      ]
    },
    {
      "cell_type": "code",
      "source": [
        "texto = 'Olá 123 _'\n",
        "indice = 0\n",
        "while (indice < len(texto)):\n",
        "  print(texto[indice])\n",
        "  indice += 1"
      ],
      "metadata": {
        "colab": {
          "base_uri": "https://localhost:8080/"
        },
        "id": "hx8Nbp2LxN5f",
        "outputId": "7b053f6b-fe5b-4aff-9429-829226907a22"
      },
      "execution_count": 30,
      "outputs": [
        {
          "output_type": "stream",
          "name": "stdout",
          "text": [
            "O\n",
            "l\n",
            "á\n",
            " \n",
            "1\n",
            "2\n",
            "3\n",
            " \n",
            "_\n"
          ]
        }
      ]
    },
    {
      "cell_type": "code",
      "source": [
        "num_atual = 0\n",
        "while (True):\n",
        "  if (num_atual == 5):\n",
        "    break\n",
        "  print(num_atual)\n",
        "  num_atual +=1\n",
        "\n",
        "print('Encerrou!')"
      ],
      "metadata": {
        "colab": {
          "base_uri": "https://localhost:8080/"
        },
        "id": "p0T1z7dox5ey",
        "outputId": "28cd77a9-9d9a-418f-c2a6-5c5bc54c3ee5"
      },
      "execution_count": 31,
      "outputs": [
        {
          "output_type": "stream",
          "name": "stdout",
          "text": [
            "0\n",
            "1\n",
            "2\n",
            "3\n",
            "4\n",
            "Encerrou!\n"
          ]
        }
      ]
    },
    {
      "cell_type": "code",
      "source": [
        "num_atual = 0\n",
        "while (num_atual < 10):\n",
        "  num_atual += 1\n",
        "  if (num_atual == 7):\n",
        "    continue\n",
        "  print(num_atual)\n",
        "\n",
        "print('Encerrou!')"
      ],
      "metadata": {
        "colab": {
          "base_uri": "https://localhost:8080/"
        },
        "id": "pEQS2V5hypZp",
        "outputId": "da41c15f-a9d1-46b3-b54e-91e9066854c7"
      },
      "execution_count": 32,
      "outputs": [
        {
          "output_type": "stream",
          "name": "stdout",
          "text": [
            "1\n",
            "2\n",
            "3\n",
            "4\n",
            "5\n",
            "6\n",
            "8\n",
            "9\n",
            "10\n",
            "Encerrou!\n"
          ]
        }
      ]
    },
    {
      "cell_type": "markdown",
      "source": [
        "#Exercícios:"
      ],
      "metadata": {
        "id": "gd6Z3N5L9bPx"
      }
    },
    {
      "cell_type": "code",
      "source": [
        "soma_atual = 0\n",
        "numeros_lidos = 0\n",
        "\n",
        "while (numeros_lidos < 5):\n",
        "  numeros_str = input(\"Digite um número para ser somado: \")\n",
        "  numero_lido = float(numeros_str)\n",
        "  soma_atual += numero_lido\n",
        "  numeros_lidos += 1\n",
        "\n",
        "media = soma_atual / 5\n",
        "\n",
        "print('\\nA média dos números informados é: {}' .format(media))\n"
      ],
      "metadata": {
        "colab": {
          "base_uri": "https://localhost:8080/"
        },
        "id": "QssLku0r9f-d",
        "outputId": "dd9d74f9-2454-4724-f955-689e953471bb"
      },
      "execution_count": 44,
      "outputs": [
        {
          "output_type": "stream",
          "name": "stdout",
          "text": [
            "Digite um número para ser somado: 10\n",
            "Digite um número para ser somado: 10\n",
            "Digite um número para ser somado: 10\n",
            "Digite um número para ser somado: 10\n",
            "Digite um número para ser somado: 10\n",
            "\n",
            "A média dos números informados é: 10.0\n"
          ]
        }
      ]
    },
    {
      "cell_type": "code",
      "source": [
        "soma_atual = 0\n",
        "numeros_lidos = 0\n",
        "\n",
        "while (numeros_lidos < 5):\n",
        "  numeros_str = input(\"Digite um número para ser somado: \")\n",
        "  numero_lido = float(numeros_str)\n",
        "  if numero_lido >=0:\n",
        "    soma_atual += numero_lido\n",
        "  numeros_lidos += 1\n",
        "\n",
        "print('\\nA soma dos números informados é: {}' .format(soma_atual))\n"
      ],
      "metadata": {
        "colab": {
          "base_uri": "https://localhost:8080/"
        },
        "id": "CzYXXDKYG8Vf",
        "outputId": "1afbc50b-ae77-4b7e-da0a-c5def50c5543"
      },
      "execution_count": 49,
      "outputs": [
        {
          "output_type": "stream",
          "name": "stdout",
          "text": [
            "Digite um número para ser somado: 10\n",
            "Digite um número para ser somado: 10\n",
            "Digite um número para ser somado: -10\n",
            "Digite um número para ser somado: -10\n",
            "Digite um número para ser somado: 10\n",
            "\n",
            "A soma dos números informados é: 30.0\n"
          ]
        }
      ]
    },
    {
      "cell_type": "code",
      "source": [
        "numeros_que_devem_ser_lidos = float(input(\"Digite quantos números serão lidos: \"))\n",
        "\n",
        "soma_atual = 0\n",
        "numeros_lidos = 0\n",
        "\n",
        "while (numeros_lidos < numeros_que_devem_ser_lidos):\n",
        "  numeros_str = input(\"Digite um número para ser somado: \")\n",
        "  numero_lido = float(numeros_str)\n",
        "  if numero_lido >=0:\n",
        "    soma_atual += numero_lido\n",
        "  numeros_lidos += 1\n",
        "\n",
        "print('\\nA soma dos números informados é: {}' .format(soma_atual))\n"
      ],
      "metadata": {
        "colab": {
          "base_uri": "https://localhost:8080/"
        },
        "id": "kjuT9bSEKJtv",
        "outputId": "ff0914f3-d7d4-4297-bd1a-adcd73f2634d"
      },
      "execution_count": 51,
      "outputs": [
        {
          "output_type": "stream",
          "name": "stdout",
          "text": [
            "Digite quantos números serão lidos: 4\n",
            "Digite um número para ser somado: 5\n",
            "Digite um número para ser somado: 5\n",
            "Digite um número para ser somado: 5\n",
            "Digite um número para ser somado: 5\n",
            "\n",
            "A soma dos números informados é: 20.0\n"
          ]
        }
      ]
    },
    {
      "cell_type": "code",
      "source": [
        "num_atual =2\n",
        "while (num_atual <= 10):\n",
        "  resto = num_atual % 2\n",
        "  if (resto ==0):\n",
        "    print('O número %d é par' % (num_atual))\n",
        "  else:\n",
        "    print('O número %d é impar' % (num_atual))\n",
        "  num_atual +=1"
      ],
      "metadata": {
        "colab": {
          "base_uri": "https://localhost:8080/"
        },
        "id": "spVAvxX0TmEX",
        "outputId": "a46f0211-b95a-4f1f-f52a-42dccd19a9ff"
      },
      "execution_count": 54,
      "outputs": [
        {
          "output_type": "stream",
          "name": "stdout",
          "text": [
            "O número 2 é par\n",
            "O número 3 é impar\n",
            "O número 4 é par\n",
            "O número 5 é impar\n",
            "O número 6 é par\n",
            "O número 7 é impar\n",
            "O número 8 é par\n",
            "O número 9 é impar\n",
            "O número 10 é par\n"
          ]
        }
      ]
    },
    {
      "cell_type": "code",
      "source": [
        "texto = input('Digite um texto: ')\n",
        "indice =0\n",
        "num_vazio =0\n",
        "\n",
        "while (indice <len(texto)):\n",
        "  if texto[indice] == \" \":\n",
        "    num_vazio +=1\n",
        "  indice +=1\n",
        "\n",
        "print(\"Número de espaços no texto é de %d \" % (num_vazio))"
      ],
      "metadata": {
        "colab": {
          "base_uri": "https://localhost:8080/"
        },
        "id": "F7mJQLnNdH1N",
        "outputId": "99cf3a1d-c121-45dd-aad0-f3e0e981d6e3"
      },
      "execution_count": 55,
      "outputs": [
        {
          "output_type": "stream",
          "name": "stdout",
          "text": [
            "Digite um texto: Anderson da Silva Souza\n",
            "Número de espaços no texto é de 3 \n"
          ]
        }
      ]
    },
    {
      "cell_type": "markdown",
      "source": [
        "# For"
      ],
      "metadata": {
        "id": "bK1SCT1ke07Q"
      }
    },
    {
      "cell_type": "code",
      "source": [
        "for x in range(10):\n",
        "  print(x)"
      ],
      "metadata": {
        "colab": {
          "base_uri": "https://localhost:8080/"
        },
        "id": "N9bvvDVxe3Uu",
        "outputId": "da00b3e7-8df4-463f-b1cd-46af651afb65"
      },
      "execution_count": 56,
      "outputs": [
        {
          "output_type": "stream",
          "name": "stdout",
          "text": [
            "0\n",
            "1\n",
            "2\n",
            "3\n",
            "4\n",
            "5\n",
            "6\n",
            "7\n",
            "8\n",
            "9\n"
          ]
        }
      ]
    },
    {
      "cell_type": "code",
      "source": [
        "for x in range(5,10):\n",
        "  print(x)"
      ],
      "metadata": {
        "colab": {
          "base_uri": "https://localhost:8080/"
        },
        "id": "k0GAJQuqgJMp",
        "outputId": "1df9d4b4-e9fa-428a-8f8f-abdc3b0e2060"
      },
      "execution_count": 57,
      "outputs": [
        {
          "output_type": "stream",
          "name": "stdout",
          "text": [
            "5\n",
            "6\n",
            "7\n",
            "8\n",
            "9\n"
          ]
        }
      ]
    },
    {
      "cell_type": "code",
      "source": [
        "for x in range(5, 20,5):\n",
        "  print(x)"
      ],
      "metadata": {
        "colab": {
          "base_uri": "https://localhost:8080/"
        },
        "id": "HCRwhFb5gN6c",
        "outputId": "1d068d2e-71f9-493b-a8d9-815da478fe8f"
      },
      "execution_count": 58,
      "outputs": [
        {
          "output_type": "stream",
          "name": "stdout",
          "text": [
            "5\n",
            "10\n",
            "15\n"
          ]
        }
      ]
    },
    {
      "cell_type": "code",
      "source": [
        "for x in range(20,5,-5):\n",
        "  print(x)"
      ],
      "metadata": {
        "colab": {
          "base_uri": "https://localhost:8080/"
        },
        "id": "8brKv_N2gVbu",
        "outputId": "a2ec6329-5740-47a8-878a-8aa75e06f4c8"
      },
      "execution_count": 59,
      "outputs": [
        {
          "output_type": "stream",
          "name": "stdout",
          "text": [
            "20\n",
            "15\n",
            "10\n"
          ]
        }
      ]
    },
    {
      "cell_type": "code",
      "source": [
        "texto ='123456789'\n",
        "for x in range(0, len(texto)):\n",
        "  print(texto[x])"
      ],
      "metadata": {
        "colab": {
          "base_uri": "https://localhost:8080/"
        },
        "id": "3SzMaI5JgfRx",
        "outputId": "bd43368d-f47f-4494-ed5e-5e885e1f3d83"
      },
      "execution_count": 61,
      "outputs": [
        {
          "output_type": "stream",
          "name": "stdout",
          "text": [
            "1\n",
            "2\n",
            "3\n",
            "4\n",
            "5\n",
            "6\n",
            "7\n",
            "8\n",
            "9\n"
          ]
        }
      ]
    },
    {
      "cell_type": "code",
      "source": [
        "letra = input('Digite uma letra: ')\n",
        "\n",
        "if (len(letra) != 1):\n",
        "  print(\"Precisa ter 1 digito!\")\n",
        "else:\n",
        "  texto = input('Digite uma texto: ')\n",
        "\n",
        "  for i in range(0, len(texto)):\n",
        "    if letra == texto[i]:\n",
        "      print(\"Encontrei a letra %s na posição %d \" % (letra, i))"
      ],
      "metadata": {
        "colab": {
          "base_uri": "https://localhost:8080/"
        },
        "id": "wIvtog5Lg5_b",
        "outputId": "7f113453-5562-4bcc-dfff-ca86b2830e81"
      },
      "execution_count": 64,
      "outputs": [
        {
          "output_type": "stream",
          "name": "stdout",
          "text": [
            "Digite uma letra: a\n",
            "Digite uma texto: calculadora\n",
            "Encontrei a letra a na posição 1 \n",
            "Encontrei a letra a na posição 6 \n",
            "Encontrei a letra a na posição 10 \n"
          ]
        }
      ]
    },
    {
      "cell_type": "code",
      "source": [
        "texto = 'olá, eu sou iterável'\n",
        "for x in texto:\n",
        "  print(x)"
      ],
      "metadata": {
        "colab": {
          "base_uri": "https://localhost:8080/"
        },
        "id": "Rh1CQnWeiGv_",
        "outputId": "2a76e926-c421-496c-cc0f-40953369cece"
      },
      "execution_count": 65,
      "outputs": [
        {
          "output_type": "stream",
          "name": "stdout",
          "text": [
            "o\n",
            "l\n",
            "á\n",
            ",\n",
            " \n",
            "e\n",
            "u\n",
            " \n",
            "s\n",
            "o\n",
            "u\n",
            " \n",
            "i\n",
            "t\n",
            "e\n",
            "r\n",
            "á\n",
            "v\n",
            "e\n",
            "l\n"
          ]
        }
      ]
    },
    {
      "cell_type": "code",
      "source": [
        "for x in range(0,3):\n",
        "  for y in range(0,5):\n",
        "    print(x,y)"
      ],
      "metadata": {
        "colab": {
          "base_uri": "https://localhost:8080/"
        },
        "id": "wTQIDlWCjt_r",
        "outputId": "65f8afdf-ad82-49e8-9017-4164844a5bcd"
      },
      "execution_count": 73,
      "outputs": [
        {
          "output_type": "stream",
          "name": "stdout",
          "text": [
            "0 0\n",
            "0 1\n",
            "0 2\n",
            "0 3\n",
            "0 4\n",
            "1 0\n",
            "1 1\n",
            "1 2\n",
            "1 3\n",
            "1 4\n",
            "2 0\n",
            "2 1\n",
            "2 2\n",
            "2 3\n",
            "2 4\n"
          ]
        }
      ]
    },
    {
      "cell_type": "code",
      "source": [
        "for x in range(1,11):\n",
        "  print('-------------')\n",
        "  for y in range(1,11):\n",
        "    print('%d X %d = %d' % (x,y, x*y))"
      ],
      "metadata": {
        "colab": {
          "base_uri": "https://localhost:8080/"
        },
        "id": "8be87T2VkCUW",
        "outputId": "781e777c-69e3-41f3-c9e8-8cda7682cac3"
      },
      "execution_count": 74,
      "outputs": [
        {
          "output_type": "stream",
          "name": "stdout",
          "text": [
            "-------------\n",
            "1 X 1 = 1\n",
            "1 X 2 = 2\n",
            "1 X 3 = 3\n",
            "1 X 4 = 4\n",
            "1 X 5 = 5\n",
            "1 X 6 = 6\n",
            "1 X 7 = 7\n",
            "1 X 8 = 8\n",
            "1 X 9 = 9\n",
            "1 X 10 = 10\n",
            "-------------\n",
            "2 X 1 = 2\n",
            "2 X 2 = 4\n",
            "2 X 3 = 6\n",
            "2 X 4 = 8\n",
            "2 X 5 = 10\n",
            "2 X 6 = 12\n",
            "2 X 7 = 14\n",
            "2 X 8 = 16\n",
            "2 X 9 = 18\n",
            "2 X 10 = 20\n",
            "-------------\n",
            "3 X 1 = 3\n",
            "3 X 2 = 6\n",
            "3 X 3 = 9\n",
            "3 X 4 = 12\n",
            "3 X 5 = 15\n",
            "3 X 6 = 18\n",
            "3 X 7 = 21\n",
            "3 X 8 = 24\n",
            "3 X 9 = 27\n",
            "3 X 10 = 30\n",
            "-------------\n",
            "4 X 1 = 4\n",
            "4 X 2 = 8\n",
            "4 X 3 = 12\n",
            "4 X 4 = 16\n",
            "4 X 5 = 20\n",
            "4 X 6 = 24\n",
            "4 X 7 = 28\n",
            "4 X 8 = 32\n",
            "4 X 9 = 36\n",
            "4 X 10 = 40\n",
            "-------------\n",
            "5 X 1 = 5\n",
            "5 X 2 = 10\n",
            "5 X 3 = 15\n",
            "5 X 4 = 20\n",
            "5 X 5 = 25\n",
            "5 X 6 = 30\n",
            "5 X 7 = 35\n",
            "5 X 8 = 40\n",
            "5 X 9 = 45\n",
            "5 X 10 = 50\n",
            "-------------\n",
            "6 X 1 = 6\n",
            "6 X 2 = 12\n",
            "6 X 3 = 18\n",
            "6 X 4 = 24\n",
            "6 X 5 = 30\n",
            "6 X 6 = 36\n",
            "6 X 7 = 42\n",
            "6 X 8 = 48\n",
            "6 X 9 = 54\n",
            "6 X 10 = 60\n",
            "-------------\n",
            "7 X 1 = 7\n",
            "7 X 2 = 14\n",
            "7 X 3 = 21\n",
            "7 X 4 = 28\n",
            "7 X 5 = 35\n",
            "7 X 6 = 42\n",
            "7 X 7 = 49\n",
            "7 X 8 = 56\n",
            "7 X 9 = 63\n",
            "7 X 10 = 70\n",
            "-------------\n",
            "8 X 1 = 8\n",
            "8 X 2 = 16\n",
            "8 X 3 = 24\n",
            "8 X 4 = 32\n",
            "8 X 5 = 40\n",
            "8 X 6 = 48\n",
            "8 X 7 = 56\n",
            "8 X 8 = 64\n",
            "8 X 9 = 72\n",
            "8 X 10 = 80\n",
            "-------------\n",
            "9 X 1 = 9\n",
            "9 X 2 = 18\n",
            "9 X 3 = 27\n",
            "9 X 4 = 36\n",
            "9 X 5 = 45\n",
            "9 X 6 = 54\n",
            "9 X 7 = 63\n",
            "9 X 8 = 72\n",
            "9 X 9 = 81\n",
            "9 X 10 = 90\n",
            "-------------\n",
            "10 X 1 = 10\n",
            "10 X 2 = 20\n",
            "10 X 3 = 30\n",
            "10 X 4 = 40\n",
            "10 X 5 = 50\n",
            "10 X 6 = 60\n",
            "10 X 7 = 70\n",
            "10 X 8 = 80\n",
            "10 X 9 = 90\n",
            "10 X 10 = 100\n"
          ]
        }
      ]
    },
    {
      "cell_type": "markdown",
      "source": [
        "# Exercícios:"
      ],
      "metadata": {
        "id": "v-ddzWF1k-Wu"
      }
    },
    {
      "cell_type": "code",
      "source": [
        "texto = input(\"Digite uma frase: \")\n",
        "num_caracteres = 0\n",
        "\n",
        "for letra in texto:\n",
        "  if (letra !=\" \"):\n",
        "    num_caracteres +=1\n",
        "\n",
        "print(\"Tem %d caracteres no texto. \" % (num_caracteres))"
      ],
      "metadata": {
        "colab": {
          "base_uri": "https://localhost:8080/"
        },
        "id": "l4UostV_kyoz",
        "outputId": "6bff4bb3-766f-42c1-99e7-5e320fd22430"
      },
      "execution_count": 76,
      "outputs": [
        {
          "output_type": "stream",
          "name": "stdout",
          "text": [
            "Digite uma frase: São Paulo\n",
            "Tem 8 caracteres no texto. \n"
          ]
        }
      ]
    },
    {
      "cell_type": "code",
      "source": [
        "fatorial_str = input(\"Digite o fatorial desejado: \")\n",
        "fatorial_numero = int(fatorial_str)\n",
        "resultado = 1\n",
        "\n",
        "for i in range (1, fatorial_numero + 1):\n",
        "  resultado *= i\n",
        "\n",
        "print(\"O fatorial de %d é de %d \" % (fatorial_numero, resultado))"
      ],
      "metadata": {
        "colab": {
          "base_uri": "https://localhost:8080/"
        },
        "id": "awLkcpoHpmeJ",
        "outputId": "0e01c7c4-e5e0-4924-f11a-93f22345b1ec"
      },
      "execution_count": 81,
      "outputs": [
        {
          "output_type": "stream",
          "name": "stdout",
          "text": [
            "Digite o fatorial desejado: 4\n",
            "O fatorial de 4 é de 24 \n"
          ]
        }
      ]
    },
    {
      "cell_type": "code",
      "source": [
        "numero_de_leituras = int(input(\"Digite o número de textos que serão lidos: \"))\n",
        "texto_total = \"\"\n",
        "\n",
        "for i in range(numero_de_leituras):\n",
        "  texto_total += input(\"Digite o texto: \")\n",
        "\n",
        "print(\"Texto completo: \", texto_total)"
      ],
      "metadata": {
        "colab": {
          "base_uri": "https://localhost:8080/"
        },
        "id": "GG-Q_RSRrAHu",
        "outputId": "09c129e0-fe55-4f94-ad75-3bd6be1f7211"
      },
      "execution_count": 84,
      "outputs": [
        {
          "output_type": "stream",
          "name": "stdout",
          "text": [
            "Digite o número de textos que serão lidos: 3\n",
            "Digite o texto: Anderson\n",
            "Digite o texto: Silva\n",
            "Digite o texto: Souza\n",
            "Texto completo:  AndersonSilvaSouza\n"
          ]
        }
      ]
    },
    {
      "cell_type": "code",
      "source": [
        "numero = int(input(\"Digite a tabuada de divisão desejada: \"))\n",
        "for num in range(1,11):\n",
        "  print(\"%d / %d = %f \" % (num, numero, num / numero))"
      ],
      "metadata": {
        "colab": {
          "base_uri": "https://localhost:8080/"
        },
        "id": "RpSbSfLpAF8B",
        "outputId": "89bf3168-49c2-4dd6-a253-f4ed4042e7ee"
      },
      "execution_count": 85,
      "outputs": [
        {
          "output_type": "stream",
          "name": "stdout",
          "text": [
            "Digite a tabuada de divisão desejada: 4\n",
            "1 / 4 = 0.250000 \n",
            "2 / 4 = 0.500000 \n",
            "3 / 4 = 0.750000 \n",
            "4 / 4 = 1.000000 \n",
            "5 / 4 = 1.250000 \n",
            "6 / 4 = 1.500000 \n",
            "7 / 4 = 1.750000 \n",
            "8 / 4 = 2.000000 \n",
            "9 / 4 = 2.250000 \n",
            "10 / 4 = 2.500000 \n"
          ]
        }
      ]
    },
    {
      "cell_type": "code",
      "source": [
        "for numero in range(3,31):\n",
        "  e_primo = True\n",
        "\n",
        "  for num_teste in range(2,numero):\n",
        "    if (numero % num_teste == 0):\n",
        "      e_primo = False\n",
        "      break\n",
        "  if(e_primo):\n",
        "    print(\"O número %d é primo\" % (numero))\n",
        "  else:\n",
        "    print(\"O número não %d é primo\" % (numero))\n"
      ],
      "metadata": {
        "colab": {
          "base_uri": "https://localhost:8080/"
        },
        "id": "rKEeZNTiAkUf",
        "outputId": "887930a1-fa74-4d57-be8d-429f0060902a"
      },
      "execution_count": 86,
      "outputs": [
        {
          "output_type": "stream",
          "name": "stdout",
          "text": [
            "O número 3 é primo\n",
            "O número não 4 é primo\n",
            "O número 5 é primo\n",
            "O número não 6 é primo\n",
            "O número 7 é primo\n",
            "O número não 8 é primo\n",
            "O número não 9 é primo\n",
            "O número não 10 é primo\n",
            "O número 11 é primo\n",
            "O número não 12 é primo\n",
            "O número 13 é primo\n",
            "O número não 14 é primo\n",
            "O número não 15 é primo\n",
            "O número não 16 é primo\n",
            "O número 17 é primo\n",
            "O número não 18 é primo\n",
            "O número 19 é primo\n",
            "O número não 20 é primo\n",
            "O número não 21 é primo\n",
            "O número não 22 é primo\n",
            "O número 23 é primo\n",
            "O número não 24 é primo\n",
            "O número não 25 é primo\n",
            "O número não 26 é primo\n",
            "O número não 27 é primo\n",
            "O número não 28 é primo\n",
            "O número 29 é primo\n",
            "O número não 30 é primo\n"
          ]
        }
      ]
    }
  ]
}